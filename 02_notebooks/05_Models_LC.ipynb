{
 "cells": [
  {
   "cell_type": "code",
   "execution_count": 1,
   "metadata": {},
   "outputs": [],
   "source": [
    "import feather\n",
    "import os\n",
    "import warnings\n",
    "import numpy as np\n",
    "import pandas as pd\n",
    "import json\n",
    "import codecs\n",
    "import gc \n",
    "\n",
    "from pathlib import Path\n",
    "import matplotlib\n",
    "import matplotlib.pyplot as plt\n",
    "import seaborn as sns\n",
    "\n",
    "from sklearn import metrics\n",
    "\n",
    "pd.options.display.max_columns = 999\n",
    "pd.options.display.max_rows = 999\n",
    "\n",
    "warnings.filterwarnings(\"ignore\")\n",
    "warnings.filterwarnings(\"ignore\",category=DeprecationWarning)\n",
    "\n",
    "seed = 666\n",
    "\n",
    "%matplotlib inline\n",
    "%load_ext autoreload\n",
    "%autoreload 2"
   ]
  },
  {
   "cell_type": "markdown",
   "metadata": {},
   "source": [
    "impot transformers and function that I've created in previous notebooks"
   ]
  },
  {
   "cell_type": "code",
   "execution_count": 2,
   "metadata": {},
   "outputs": [],
   "source": [
    "import helpers"
   ]
  },
  {
   "cell_type": "markdown",
   "metadata": {},
   "source": [
    "# Load data \n"
   ]
  },
  {
   "cell_type": "code",
   "execution_count": 3,
   "metadata": {},
   "outputs": [],
   "source": [
    "data_DIR = Path('/Users/xszpo/Google Drive/DataScience/Projects/201908_credit/'\n",
    "                '01_data')\n",
    "\n",
    "df_train = feather.read_dataframe(os.path.join(data_DIR, 'DS_loans_IN_train.feather')).reset_index(drop=True)\n",
    "df_test = feather.read_dataframe(os.path.join(data_DIR, 'DS_loans_IN_test.feather')).reset_index(drop=True)\n",
    "\n",
    "df_variables = feather.read_dataframe(os.path.join(data_DIR, 'variables_primary_selection.feather'))\n"
   ]
  },
  {
   "cell_type": "code",
   "execution_count": 4,
   "metadata": {},
   "outputs": [],
   "source": [
    "with codecs.open(os.path.join(data_DIR, 'replacement_dictionary.json'),'r') as f:\n",
    "    dict_repl=json.loads(f.read())\n",
    "    "
   ]
  },
  {
   "cell_type": "markdown",
   "metadata": {},
   "source": [
    "Do some repairs"
   ]
  },
  {
   "cell_type": "markdown",
   "metadata": {},
   "source": [
    "Convert emp_length to numeric"
   ]
  },
  {
   "cell_type": "code",
   "execution_count": 5,
   "metadata": {},
   "outputs": [],
   "source": [
    "replacement = {'emp_length':\n",
    "                  {'< 1 year':0, '9 years':9, '3 years':3, '10+ years':11, '7 years':7,\n",
    "                   '2 years':2, '4 years':4, '1 year':1, '8 years':8, '5 years':5, None:np.nan,\n",
    "                   '6 years':6}}\n",
    "df_train = df_train.replace(replacement)\n",
    "df_test = df_test.replace(replacement)"
   ]
  },
  {
   "cell_type": "markdown",
   "metadata": {},
   "source": [
    "repair text features"
   ]
  },
  {
   "cell_type": "code",
   "execution_count": 6,
   "metadata": {},
   "outputs": [],
   "source": [
    "df_train.replace({'desc': {'': np.nan},'emp_title': {'': np.nan},'title': {'': np.nan}}, inplace=True)\n",
    "df_train.fillna({'desc': 'novalue', 'emp_title': 'novalue', 'title': 'novalue'}, inplace=True)\n",
    "\n",
    "df_test.replace({'desc': {'': np.nan},'emp_title': {'': np.nan},'title': {'': np.nan}}, inplace=True)\n",
    "df_test.fillna({'desc': 'novalue', 'emp_title': 'novalue', 'title': 'novalue'}, inplace=True)\n",
    "\n"
   ]
  },
  {
   "cell_type": "markdown",
   "metadata": {},
   "source": [
    "Select data category"
   ]
  },
  {
   "cell_type": "markdown",
   "metadata": {},
   "source": [
    "`grade`,`sub_grade`,`int_rate` - are strong features which come from another model and they dominates my model.  I will drop it here and use it in blending step.\n"
   ]
  },
  {
   "cell_type": "code",
   "execution_count": 7,
   "metadata": {},
   "outputs": [
    {
     "name": "stdout",
     "output_type": "stream",
     "text": [
      "Text features (3): emp_title, desc, title \n",
      "\n",
      "Category features (10): term, home_ownership, purpose, zip_code, addr_state, initial_list_status, application_type, verification_status_joint, sec_app_earliest_cr_line, disbursement_method \n",
      "\n",
      "Numeric features (73): loan_amnt, funded_amnt, installment, emp_length, annual_inc, dti, delinq_2yrs, inq_last_6mths, mths_since_last_delinq, mths_since_last_record, open_acc, pub_rec, revol_bal, revol_util, total_acc, collections_12_mths_ex_med, mths_since_last_major_derog, annual_inc_joint, dti_joint, acc_now_delinq, tot_coll_amt, tot_cur_bal, open_acc_6m, open_act_il, open_il_12m, open_il_24m, mths_since_rcnt_il, total_bal_il, il_util, open_rv_12m, open_rv_24m, max_bal_bc, all_util, total_rev_hi_lim, inq_fi, total_cu_tl, inq_last_12m, acc_open_past_24mths, avg_cur_bal, bc_open_to_buy, bc_util, chargeoff_within_12_mths, delinq_amnt, mo_sin_old_rev_tl_op, mo_sin_rcnt_rev_tl_op, mo_sin_rcnt_tl, mort_acc, mths_since_recent_bc, mths_since_recent_inq, mths_since_recent_revol_delinq, num_accts_ever_120_pd, num_actv_bc_tl, num_actv_rev_tl, num_bc_sats, num_bc_tl, num_il_tl, num_op_rev_tl, num_rev_accts, num_rev_tl_bal_gt_0, num_sats, num_tl_120dpd_2m, num_tl_30dpd, num_tl_90g_dpd_24m, num_tl_op_past_12m, pct_tl_nvr_dlq, percent_bc_gt_75, pub_rec_bankruptcies, tax_liens, tot_hi_cred_lim, total_bal_ex_mort, total_bc_limit, total_il_high_credit_limit, random_value \n",
      "\n",
      "Datetime features (2): issue_d, earliest_cr_line \n",
      "\n"
     ]
    }
   ],
   "source": [
    "target = ['default']\n",
    "exlude = ['loan_status','grade','int_rate','sub_grade']\n",
    "\n",
    "features_all_text = ['emp_title','desc','title']\n",
    "features_all_category = [i for i in df_train.select_dtypes(include=['object']).columns if i not in features_all_text+exlude]\n",
    "features_all_numeric=  [i for i in df_train.select_dtypes(exclude=['object','datetime64[ns]']).columns if i not in target+exlude]\n",
    "features_all_data =  list(df_train.select_dtypes(include=['datetime64[ns]']).columns)\n",
    "\n",
    "print(\"Text features ({}): {} \\n\".format(len(features_all_text),\", \".join(features_all_text)))\n",
    "print(\"Category features ({}): {} \\n\".format(len(features_all_category),\", \".join(features_all_category)))\n",
    "print(\"Numeric features ({}): {} \\n\".format(len(features_all_numeric),\", \".join(features_all_numeric)))\n",
    "print(\"Datetime features ({}): {} \\n\".format(len(features_all_data),\", \".join(features_all_data)))\n"
   ]
  },
  {
   "cell_type": "markdown",
   "metadata": {},
   "source": [
    "Dataset is too big for my laptop, I reduce it ..."
   ]
  },
  {
   "cell_type": "code",
   "execution_count": 8,
   "metadata": {},
   "outputs": [],
   "source": [
    "#df_train = df_train_.sample(100000, random_state=seed).reset_index(drop=True)\n",
    "#df_test = df_test_.sample(50000, random_state=seed).reset_index(drop=True)"
   ]
  },
  {
   "cell_type": "code",
   "execution_count": 9,
   "metadata": {},
   "outputs": [],
   "source": [
    "#!!! RESET INDEX\n",
    "train_sample_size = 200000\n",
    "train_sample_size_tune = int(train_sample_size/3)\n",
    "test_sample_size = 50000\n",
    "test_sample_size_tune = int(test_sample_size/3)\n",
    "\n",
    "df_train = df_train.sample(train_sample_size, random_state=seed).reset_index(drop=True)\n",
    "df_test = df_test.sample(test_sample_size, random_state=seed).reset_index(drop=True)\n",
    "\n",
    "df_train_tune = df_train.sample(train_sample_size_tune, random_state=seed).reset_index(drop=True)\n",
    "df_test_tune = df_test.sample(test_sample_size_tune, random_state=seed).reset_index(drop=True)"
   ]
  },
  {
   "cell_type": "code",
   "execution_count": 10,
   "metadata": {},
   "outputs": [],
   "source": [
    "#del(df_train_, df_test_)\n",
    "#gc.collect()"
   ]
  },
  {
   "cell_type": "markdown",
   "metadata": {},
   "source": [
    "# Models"
   ]
  },
  {
   "cell_type": "markdown",
   "metadata": {},
   "source": [
    "Some helper functions"
   ]
  },
  {
   "cell_type": "code",
   "execution_count": 32,
   "metadata": {},
   "outputs": [],
   "source": [
    "def calculate_AUC_prop(pipe, dftrain = df_train, dftest = df_test, target= 'default'):\n",
    "    y_pred_train = pipe.predict_proba(dftrain)[:,1]\n",
    "    fpr_train, tpr_train, thresholds_train = metrics.roc_curve(dftrain['default'], y_pred_train, pos_label=1)\n",
    "    roc_auc_train = metrics.auc(fpr_train, tpr_train)\n",
    "    print(\"Train AUC= %.3f\"% roc_auc_train)\n",
    "    \n",
    "    y_pred_test = pipe.predict_proba(dftest)[:,1]\n",
    "    fpr_test, tpr_test, thresholds_test = metrics.roc_curve(dftest['default'], y_pred_test, pos_label=1)\n",
    "    roc_auc_test = metrics.auc(fpr_test, tpr_test)\n",
    "    print(\"Test AUC= %.3f\"% roc_auc_test)    \n",
    "\n",
    "    fig, ax = plt.subplots(figsize=(7,7))\n",
    "    lw = 2\n",
    "    ax.plot(fpr_train, tpr_train,  color='darkorange',\n",
    "             lw=lw, label='Train ROC curve (area = %0.3f)' % roc_auc_train)\n",
    "    ax.plot(fpr_test, tpr_test,  color='darkblue',\n",
    "             lw=lw, label='Test ROC curve (area = %0.3f)' % roc_auc_test)\n",
    "    ax.plot([0, 1], [0, 1], color='navy', lw=lw, linestyle='--')\n",
    "    plt.xlim([0.0, 1.0])\n",
    "    plt.ylim([0.0, 1.05])\n",
    "    plt.xlabel('False Positive Rate')\n",
    "    plt.ylabel('True Positive Rate')\n",
    "    plt.title('Receiver operating characteristic')\n",
    "    plt.legend(loc=\"lower right\")\n",
    "    plt.show\n",
    "    \n",
    "    return (roc_auc_train,roc_auc_test)"
   ]
  },
  {
   "cell_type": "code",
   "execution_count": 33,
   "metadata": {},
   "outputs": [],
   "source": [
    "def calculate_AUC_prop_cat(pipe, dftrain, dftest, y_train, y_test):\n",
    "    y_pred_train = pipe.predict_proba(dftrain)[:,1]\n",
    "    fpr_train, tpr_train, thresholds_train = metrics.roc_curve(y_train, y_pred_train, pos_label=1)\n",
    "    roc_auc_train = metrics.auc(fpr_train, tpr_train)\n",
    "    print(\"Train AUC= %.3f\"% roc_auc_train)\n",
    "    \n",
    "    y_pred_test = pipe.predict_proba(dftest)[:,1]\n",
    "    fpr_test, tpr_test, thresholds_test = metrics.roc_curve(y_test, y_pred_test, pos_label=1)\n",
    "    roc_auc_test = metrics.auc(fpr_test, tpr_test)\n",
    "    print(\"Test AUC= %.3f\"% roc_auc_test)    \n",
    "\n",
    "    fig, ax = plt.subplots(figsize=(7,7))\n",
    "    lw = 2\n",
    "    ax.plot(fpr_train, tpr_train,  color='darkorange',\n",
    "             lw=lw, label='Train ROC curve (area = %0.3f)' % roc_auc_train)\n",
    "    ax.plot(fpr_test, tpr_test,  color='darkblue',\n",
    "             lw=lw, label='Test ROC curve (area = %0.3f)' % roc_auc_test)\n",
    "    ax.plot([0, 1], [0, 1], color='navy', lw=lw, linestyle='--')\n",
    "    plt.xlim([0.0, 1.0])\n",
    "    plt.ylim([0.0, 1.05])\n",
    "    plt.xlabel('False Positive Rate')\n",
    "    plt.ylabel('True Positive Rate')\n",
    "    plt.title('Receiver operating characteristic')\n",
    "    plt.legend(loc=\"lower right\")\n",
    "    plt.show\n",
    "    \n",
    "    return (roc_auc_train,roc_auc_test)"
   ]
  },
  {
   "cell_type": "code",
   "execution_count": 34,
   "metadata": {},
   "outputs": [],
   "source": [
    "def calculate_AUC_blend(y_pred_train, y_pred_test, y_train, y_test):\n",
    "    fpr_train, tpr_train, thresholds_train = metrics.roc_curve(y_train, y_pred_train, pos_label=1)\n",
    "    roc_auc_train = metrics.auc(fpr_train, tpr_train)\n",
    "    print(\"Train AUC= %.3f\"% roc_auc_train)\n",
    "    \n",
    "    fpr_test, tpr_test, thresholds_test = metrics.roc_curve(y_test, y_pred_test, pos_label=1)\n",
    "    roc_auc_test = metrics.auc(fpr_test, tpr_test)\n",
    "    print(\"Test AUC= %.3f\"% roc_auc_test)    \n",
    "\n",
    "    fig, ax = plt.subplots(figsize=(7,7))\n",
    "    lw = 2\n",
    "    ax.plot(fpr_train, tpr_train,  color='darkorange',\n",
    "             lw=lw, label='Train ROC curve (area = %0.3f)' % roc_auc_train)\n",
    "    ax.plot(fpr_test, tpr_test,  color='darkblue',\n",
    "             lw=lw, label='Test ROC curve (area = %0.3f)' % roc_auc_test)\n",
    "    ax.plot([0, 1], [0, 1], color='navy', lw=lw, linestyle='--')\n",
    "    plt.xlim([0.0, 1.0])\n",
    "    plt.ylim([0.0, 1.05])\n",
    "    plt.xlabel('False Positive Rate')\n",
    "    plt.ylabel('True Positive Rate')\n",
    "    plt.title('Receiver operating characteristic')\n",
    "    plt.legend(loc=\"lower right\")\n",
    "    plt.show\n",
    "    \n",
    "    return (roc_auc_train,roc_auc_test)"
   ]
  },
  {
   "cell_type": "code",
   "execution_count": 14,
   "metadata": {},
   "outputs": [],
   "source": [
    "def select_alpha_LR(alpha, Xtrain,Xtest,Ytrain,Ytest, pipe, model_name='logisticregression'):\n",
    "    pipe.named_steps[model_name].C = alpha\n",
    "    pipe.named_steps[model_name].fit(Xtrain, Ytrain)\n",
    "    y_pred_train = pipe.named_steps[model_name].predict_proba(Xtrain)[:,1]\n",
    "    y_pred_test = pipe.named_steps[model_name].predict_proba(Xtest)[:,1]\n",
    "\n",
    "    fpr_train, tpr_train, thresholds_train = metrics.roc_curve(Ytrain, y_pred_train, pos_label=1)\n",
    "    roc_auc_train = metrics.auc(fpr_train, tpr_train)\n",
    "    fpr_test, tpr_test, thresholds_test = metrics.roc_curve(Ytest, y_pred_test, pos_label=1)\n",
    "    roc_auc_test = metrics.auc(fpr_test, tpr_test)\n",
    "\n",
    "    nbr_features = len([i for i in zip(pipe.named_steps[model_name].coef_[0],\n",
    "                        pipe.named_steps['columntransformer'].get_feature_names()) if i[0]>0])\n",
    "    features = [i[1] for i in zip(pipe.named_steps[model_name].coef_[0],\n",
    "                        pipe.named_steps['columntransformer'].get_feature_names()) if i[0]>0]\n",
    "\n",
    "    return {'C':alpha,'roc_auc_train':roc_auc_train,'roc_auc_test':roc_auc_test, \n",
    "            'nbr_features':nbr_features} #,'features':features }\n",
    "\n"
   ]
  },
  {
   "cell_type": "markdown",
   "metadata": {},
   "source": [
    "## Logistic LASSO regression"
   ]
  },
  {
   "cell_type": "code",
   "execution_count": 15,
   "metadata": {},
   "outputs": [],
   "source": [
    "from itertools import compress\n",
    "from sklearn.pipeline import make_pipeline, make_union\n",
    "from sklearn.compose import ColumnTransformer\n",
    "from category_encoders import WOEEncoder, OneHotEncoder,TargetEncoder\n",
    "from sklearn.feature_extraction.text import CountVectorizer, TfidfVectorizer\n",
    "\n",
    "from sklearn.linear_model import Lasso, Ridge, LogisticRegression\n",
    "from sklearn import metrics\n",
    "import eli5\n",
    "from sklearn.decomposition import TruncatedSVD\n",
    "from sklearn.decomposition import LatentDirichletAllocation\n",
    "\n",
    "seed = 666"
   ]
  },
  {
   "cell_type": "code",
   "execution_count": 16,
   "metadata": {},
   "outputs": [],
   "source": [
    "manual_bins = {'acc_open_past_24mths': {'bins': [3, 9]},\n",
    " 'int_rate': {'bins': [12, 20]},\n",
    " 'avg_cur_bal': {'bins': [10000, 30000]},\n",
    " 'dti': {'bins': [10, 33]},\n",
    " 'emp_length': {},\n",
    " 'annual_inc': {'bins': [125000]},\n",
    " 'mo_sin_old_rev_tl_op': {},\n",
    " 'bc_util': {},\n",
    " 'mort_acc': {},\n",
    " 'tot_cur_bal': {'bins': [20000, 130000]},\n",
    " 'bc_open_to_buy': {'bins': [5000, 2000]},\n",
    " 'mths_since_recent_bc': {},\n",
    " 'total_bc_limit': {'bins': [30000, 60000]},\n",
    " 'loan_amnt': {}}"
   ]
  },
  {
   "cell_type": "code",
   "execution_count": 17,
   "metadata": {},
   "outputs": [],
   "source": [
    "import helpers"
   ]
  },
  {
   "cell_type": "code",
   "execution_count": 18,
   "metadata": {},
   "outputs": [],
   "source": [
    "pipe_212_lasso = make_pipeline(\n",
    "    ColumnTransformer([\n",
    "        ('numeric', helpers.DecisionTreeDiscretizer_DF(bins = manual_bins,\n",
    "            max_depth = 3, min_samples_prc_leaf=0.05),features_all_numeric),\n",
    "        ('category',helpers.PassThroughOrReplace(fillna=True, replace_dict=dict_repl),features_all_category)\n",
    "    ]),\n",
    "    WOEEncoder(random_state=seed),\n",
    "    LogisticRegression(random_state=seed, C=0.05, penalty='l1')\n",
    "    )"
   ]
  },
  {
   "cell_type": "code",
   "execution_count": 19,
   "metadata": {
    "scrolled": false
   },
   "outputs": [
    {
     "name": "stdout",
     "output_type": "stream",
     "text": [
      "CPU times: user 13.5 s, sys: 1.1 s, total: 14.6 s\n",
      "Wall time: 14.8 s\n"
     ]
    },
    {
     "data": {
      "text/plain": [
       "Pipeline(memory=None,\n",
       "         steps=[('columntransformer',\n",
       "                 ColumnTransformer(n_jobs=None, remainder='drop',\n",
       "                                   sparse_threshold=0.3,\n",
       "                                   transformer_weights=None,\n",
       "                                   transformers=[('numeric',\n",
       "                                                  DecisionTreeDiscretizer_DF(bins={'acc_open_past_24mths': {'bins': [3,\n",
       "                                                                                                                     9]},\n",
       "                                                                                   'annual_inc': {'bins': [125000]},\n",
       "                                                                                   'avg_cur_bal': {'bins': [10000,\n",
       "                                                                                                            30000]},\n",
       "                                                                                   'bc_open_to_buy': {'bins': [5000,\n",
       "                                                                                                               2000]},\n",
       "                                                                                   'bc_ut...\n",
       "                            handle_unknown='value', random_state=666,\n",
       "                            randomized=False, regularization=1.0,\n",
       "                            return_df=True, sigma=0.05, verbose=0)),\n",
       "                ('logisticregression',\n",
       "                 LogisticRegression(C=0.05, class_weight=None, dual=False,\n",
       "                                    fit_intercept=True, intercept_scaling=1,\n",
       "                                    l1_ratio=None, max_iter=100,\n",
       "                                    multi_class='warn', n_jobs=None,\n",
       "                                    penalty='l1', random_state=666,\n",
       "                                    solver='warn', tol=0.0001, verbose=0,\n",
       "                                    warm_start=False))],\n",
       "         verbose=False)"
      ]
     },
     "execution_count": 19,
     "metadata": {},
     "output_type": "execute_result"
    }
   ],
   "source": [
    "%%time\n",
    "pipe_212_lasso.fit(df_train_tune, df_train_tune.default)"
   ]
  },
  {
   "cell_type": "code",
   "execution_count": 20,
   "metadata": {},
   "outputs": [],
   "source": [
    "_x_tr = pipe_212_lasso.named_steps['woeencoder'].transform(pipe_212_lasso.named_steps['columntransformer'].transform(df_train_tune))\n",
    "_x_tst = pipe_212_lasso.named_steps['woeencoder'].transform(pipe_212_lasso.named_steps['columntransformer'].transform(df_test_tune))\n"
   ]
  },
  {
   "cell_type": "code",
   "execution_count": 24,
   "metadata": {},
   "outputs": [
    {
     "data": {
      "image/png": "[encoded data removed]",
      "text/plain": [
       "<Figure size 720x288 with 1 Axes>"
      ]
     },
     "metadata": {
      "needs_background": "light"
     },
     "output_type": "display_data"
    },
    {
     "name": "stdout",
     "output_type": "stream",
     "text": [
      "CPU times: user 17.9 s, sys: 2.21 s, total: 20.1 s\n",
      "Wall time: 19.9 s\n"
     ]
    }
   ],
   "source": [
    "%%time\n",
    "\n",
    "list_alpha = list((np.array([1/(10**i) for i in range(1,6)]).reshape(-1,1)*np.array([8,5,3,1]).reshape(1,-1)).reshape(-1))\n",
    "\n",
    "wyniki = [select_alpha_LR(alpha = i, Xtrain=_x_tr,Xtest=_x_tst,Ytrain=df_train_tune['default'],Ytest=df_test_tune['default'],\n",
    "             pipe = pipe_212_lasso, model_name='logisticregression') for i in list_alpha]\n",
    "\n",
    "wyn = pd.DataFrame(wyniki)\n",
    "wyn['C_log'] = np.log(wyn.C)\n",
    "\n",
    "fig, ax = plt.subplots(figsize=(10,4))\n",
    "sns.lineplot(x='C_log', \n",
    "             y='roc_auc_train',\n",
    "             color='r',\n",
    "             data=wyn,\n",
    "             ax=ax)\n",
    "sns.lineplot(x='C_log', \n",
    "             y='roc_auc_test', \n",
    "             color='b',\n",
    "             data=wyn,\n",
    "             ax=ax)   \n",
    "ax.legend(['train', 'test'], facecolor='w')\n",
    "[ax.text(p[0], 0.53, \"'\"+str(p[2])+\"'\", color='black') for p in zip(wyn.C_log.to_list(), wyn.roc_auc_train.to_list(), wyn.nbr_features.to_list())]\n",
    "\n",
    "plt.show()\n",
    "          "
   ]
  },
  {
   "cell_type": "code",
   "execution_count": 25,
   "metadata": {},
   "outputs": [
    {
     "data": {
      "text/html": [
       "<div>\n",
       "<style scoped>\n",
       "    .dataframe tbody tr th:only-of-type {\n",
       "        vertical-align: middle;\n",
       "    }\n",
       "\n",
       "    .dataframe tbody tr th {\n",
       "        vertical-align: top;\n",
       "    }\n",
       "\n",
       "    .dataframe thead th {\n",
       "        text-align: right;\n",
       "    }\n",
       "</style>\n",
       "<table border=\"1\" class=\"dataframe\">\n",
       "  <thead>\n",
       "    <tr style=\"text-align: right;\">\n",
       "      <th></th>\n",
       "      <th>C</th>\n",
       "      <th>roc_auc_train</th>\n",
       "      <th>roc_auc_test</th>\n",
       "      <th>nbr_features</th>\n",
       "      <th>C_log</th>\n",
       "    </tr>\n",
       "  </thead>\n",
       "  <tbody>\n",
       "    <tr>\n",
       "      <th>0</th>\n",
       "      <td>0.800</td>\n",
       "      <td>0.692734</td>\n",
       "      <td>0.678531</td>\n",
       "      <td>45</td>\n",
       "      <td>-0.223144</td>\n",
       "    </tr>\n",
       "    <tr>\n",
       "      <th>1</th>\n",
       "      <td>0.500</td>\n",
       "      <td>0.692555</td>\n",
       "      <td>0.678608</td>\n",
       "      <td>44</td>\n",
       "      <td>-0.693147</td>\n",
       "    </tr>\n",
       "    <tr>\n",
       "      <th>2</th>\n",
       "      <td>0.300</td>\n",
       "      <td>0.692209</td>\n",
       "      <td>0.678694</td>\n",
       "      <td>43</td>\n",
       "      <td>-1.203973</td>\n",
       "    </tr>\n",
       "    <tr>\n",
       "      <th>3</th>\n",
       "      <td>0.100</td>\n",
       "      <td>0.690045</td>\n",
       "      <td>0.677758</td>\n",
       "      <td>36</td>\n",
       "      <td>-2.302585</td>\n",
       "    </tr>\n",
       "    <tr>\n",
       "      <th>4</th>\n",
       "      <td>0.080</td>\n",
       "      <td>0.689149</td>\n",
       "      <td>0.677385</td>\n",
       "      <td>36</td>\n",
       "      <td>-2.525729</td>\n",
       "    </tr>\n",
       "    <tr>\n",
       "      <th>5</th>\n",
       "      <td>0.050</td>\n",
       "      <td>0.686203</td>\n",
       "      <td>0.675943</td>\n",
       "      <td>27</td>\n",
       "      <td>-2.995732</td>\n",
       "    </tr>\n",
       "    <tr>\n",
       "      <th>6</th>\n",
       "      <td>0.030</td>\n",
       "      <td>0.683694</td>\n",
       "      <td>0.674139</td>\n",
       "      <td>23</td>\n",
       "      <td>-3.506558</td>\n",
       "    </tr>\n",
       "    <tr>\n",
       "      <th>7</th>\n",
       "      <td>0.010</td>\n",
       "      <td>0.674819</td>\n",
       "      <td>0.665932</td>\n",
       "      <td>20</td>\n",
       "      <td>-4.605170</td>\n",
       "    </tr>\n",
       "    <tr>\n",
       "      <th>8</th>\n",
       "      <td>0.008</td>\n",
       "      <td>0.671617</td>\n",
       "      <td>0.662898</td>\n",
       "      <td>17</td>\n",
       "      <td>-4.828314</td>\n",
       "    </tr>\n",
       "    <tr>\n",
       "      <th>9</th>\n",
       "      <td>0.005</td>\n",
       "      <td>0.658014</td>\n",
       "      <td>0.649920</td>\n",
       "      <td>13</td>\n",
       "      <td>-5.298317</td>\n",
       "    </tr>\n",
       "    <tr>\n",
       "      <th>10</th>\n",
       "      <td>0.003</td>\n",
       "      <td>0.640366</td>\n",
       "      <td>0.630862</td>\n",
       "      <td>4</td>\n",
       "      <td>-5.809143</td>\n",
       "    </tr>\n",
       "  </tbody>\n",
       "</table>\n",
       "</div>"
      ],
      "text/plain": [
       "        C  roc_auc_train  roc_auc_test  nbr_features     C_log\n",
       "0   0.800       0.692734      0.678531            45 -0.223144\n",
       "1   0.500       0.692555      0.678608            44 -0.693147\n",
       "2   0.300       0.692209      0.678694            43 -1.203973\n",
       "3   0.100       0.690045      0.677758            36 -2.302585\n",
       "4   0.080       0.689149      0.677385            36 -2.525729\n",
       "5   0.050       0.686203      0.675943            27 -2.995732\n",
       "6   0.030       0.683694      0.674139            23 -3.506558\n",
       "7   0.010       0.674819      0.665932            20 -4.605170\n",
       "8   0.008       0.671617      0.662898            17 -4.828314\n",
       "9   0.005       0.658014      0.649920            13 -5.298317\n",
       "10  0.003       0.640366      0.630862             4 -5.809143"
      ]
     },
     "execution_count": 25,
     "metadata": {},
     "output_type": "execute_result"
    }
   ],
   "source": [
    "wyn.query(\"C_log <0 & C_log>-6\")"
   ]
  },
  {
   "cell_type": "code",
   "execution_count": 40,
   "metadata": {},
   "outputs": [],
   "source": [
    "pipe_212_lasso = make_pipeline(\n",
    "    ColumnTransformer([\n",
    "        ('numeric', helpers.DecisionTreeDiscretizer_DF(bins = manual_bins,\n",
    "            max_depth = 3, min_samples_prc_leaf=0.05),features_all_numeric),\n",
    "        ('category',helpers.PassThroughOrReplace(fillna=True, replace_dict=dict_repl),features_all_category)\n",
    "    ]),\n",
    "    WOEEncoder(random_state=seed),\n",
    "    LogisticRegression(random_state=seed, C=0.01, penalty='l1')\n",
    "    )"
   ]
  },
  {
   "cell_type": "code",
   "execution_count": 41,
   "metadata": {},
   "outputs": [
    {
     "name": "stdout",
     "output_type": "stream",
     "text": [
      "CPU times: user 40.8 s, sys: 3.83 s, total: 44.6 s\n",
      "Wall time: 47.2 s\n"
     ]
    },
    {
     "data": {
      "text/plain": [
       "Pipeline(memory=None,\n",
       "         steps=[('columntransformer',\n",
       "                 ColumnTransformer(n_jobs=None, remainder='drop',\n",
       "                                   sparse_threshold=0.3,\n",
       "                                   transformer_weights=None,\n",
       "                                   transformers=[('numeric',\n",
       "                                                  DecisionTreeDiscretizer_DF(bins={'acc_open_past_24mths': {'bins': [3,\n",
       "                                                                                                                     9]},\n",
       "                                                                                   'annual_inc': {'bins': [125000]},\n",
       "                                                                                   'avg_cur_bal': {'bins': [10000,\n",
       "                                                                                                            30000]},\n",
       "                                                                                   'bc_open_to_buy': {'bins': [5000,\n",
       "                                                                                                               2000]},\n",
       "                                                                                   'bc_ut...\n",
       "                            handle_unknown='value', random_state=666,\n",
       "                            randomized=False, regularization=1.0,\n",
       "                            return_df=True, sigma=0.05, verbose=0)),\n",
       "                ('logisticregression',\n",
       "                 LogisticRegression(C=0.01, class_weight=None, dual=False,\n",
       "                                    fit_intercept=True, intercept_scaling=1,\n",
       "                                    l1_ratio=None, max_iter=100,\n",
       "                                    multi_class='warn', n_jobs=None,\n",
       "                                    penalty='l1', random_state=666,\n",
       "                                    solver='warn', tol=0.0001, verbose=0,\n",
       "                                    warm_start=False))],\n",
       "         verbose=False)"
      ]
     },
     "execution_count": 41,
     "metadata": {},
     "output_type": "execute_result"
    }
   ],
   "source": [
    "%%time\n",
    "pipe_212_lasso.fit(df_train, df_train.default)"
   ]
  },
  {
   "cell_type": "code",
   "execution_count": 42,
   "metadata": {},
   "outputs": [
    {
     "data": {
      "text/plain": [
       "24"
      ]
     },
     "execution_count": 42,
     "metadata": {},
     "output_type": "execute_result"
    }
   ],
   "source": [
    "len([i for i in zip(pipe_212_lasso.named_steps['logisticregression'].coef_[0],\n",
    "                    pipe_212_lasso.named_steps['columntransformer'].get_feature_names()) if i[0]>0])"
   ]
  },
  {
   "cell_type": "code",
   "execution_count": 43,
   "metadata": {},
   "outputs": [
    {
     "name": "stdout",
     "output_type": "stream",
     "text": [
      "Train AUC= 0.679\n",
      "Test AUC= 0.678\n",
      "CPU times: user 16 s, sys: 1.43 s, total: 17.4 s\n",
      "Wall time: 18.1 s\n"
     ]
    },
    {
     "data": {
      "text/plain": [
       "(0.6785377846539303, 0.6783104479031097)"
      ]
     },
     "execution_count": 43,
     "metadata": {},
     "output_type": "execute_result"
    },
    {
     "data": {
      "image/png": "[encoded data removed]",
      "text/plain": [
       "<Figure size 504x504 with 1 Axes>"
      ]
     },
     "metadata": {
      "needs_background": "light"
     },
     "output_type": "display_data"
    }
   ],
   "source": [
    "%%time\n",
    "calculate_AUC_prop(pipe_212_lasso, dftrain = df_train, dftest = df_test)"
   ]
  },
  {
   "cell_type": "code",
   "execution_count": 44,
   "metadata": {
    "scrolled": false
   },
   "outputs": [
    {
     "data": {
      "text/html": [
       "\n",
       "    <style>\n",
       "    table.eli5-weights tr:hover {\n",
       "        filter: brightness(85%);\n",
       "    }\n",
       "</style>\n",
       "\n",
       "\n",
       "\n",
       "    \n",
       "\n",
       "    \n",
       "\n",
       "    \n",
       "\n",
       "    \n",
       "\n",
       "    \n",
       "\n",
       "    \n",
       "\n",
       "\n",
       "    \n",
       "\n",
       "    \n",
       "\n",
       "    \n",
       "\n",
       "    \n",
       "        \n",
       "\n",
       "    \n",
       "\n",
       "        \n",
       "            \n",
       "                \n",
       "                \n",
       "    \n",
       "        <p style=\"margin-bottom: 0.5em; margin-top: 0em\">\n",
       "            <b>\n",
       "    \n",
       "        y=1\n",
       "    \n",
       "</b>\n",
       "\n",
       "top features\n",
       "        </p>\n",
       "    \n",
       "    <table class=\"eli5-weights\"\n",
       "           style=\"border-collapse: collapse; border: none; margin-top: 0em; table-layout: auto; margin-bottom: 2em;\">\n",
       "        <thead>\n",
       "        <tr style=\"border: none;\">\n",
       "            \n",
       "                <th style=\"padding: 0 1em 0 0.5em; text-align: right; border: none;\" title=\"Feature weights. Note that weights do not account for feature value scales, so if feature values have different scales, features with highest weights might not be the most important.\">\n",
       "                    Weight<sup>?</sup>\n",
       "                </th>\n",
       "            \n",
       "            <th style=\"padding: 0 0.5em 0 0.5em; text-align: left; border: none;\">Feature</th>\n",
       "            \n",
       "        </tr>\n",
       "        </thead>\n",
       "        <tbody>\n",
       "        \n",
       "            <tr style=\"background-color: hsl(120, 100.00%, 83.81%); border: none;\">\n",
       "    <td style=\"padding: 0 1em 0 0.5em; text-align: right; border: none;\">\n",
       "        +1.034\n",
       "    </td>\n",
       "    <td style=\"padding: 0 0.5em 0 0.5em; text-align: left; border: none;\">\n",
       "        category__term\n",
       "    </td>\n",
       "    \n",
       "</tr>\n",
       "        \n",
       "            <tr style=\"background-color: hsl(120, 100.00%, 87.78%); border: none;\">\n",
       "    <td style=\"padding: 0 1em 0 0.5em; text-align: right; border: none;\">\n",
       "        +0.691\n",
       "    </td>\n",
       "    <td style=\"padding: 0 0.5em 0 0.5em; text-align: left; border: none;\">\n",
       "        numeric__emp_length\n",
       "    </td>\n",
       "    \n",
       "</tr>\n",
       "        \n",
       "            <tr style=\"background-color: hsl(120, 100.00%, 88.06%); border: none;\">\n",
       "    <td style=\"padding: 0 1em 0 0.5em; text-align: right; border: none;\">\n",
       "        +0.668\n",
       "    </td>\n",
       "    <td style=\"padding: 0 0.5em 0 0.5em; text-align: left; border: none;\">\n",
       "        category__purpose\n",
       "    </td>\n",
       "    \n",
       "</tr>\n",
       "        \n",
       "            <tr style=\"background-color: hsl(120, 100.00%, 88.41%); border: none;\">\n",
       "    <td style=\"padding: 0 1em 0 0.5em; text-align: right; border: none;\">\n",
       "        +0.641\n",
       "    </td>\n",
       "    <td style=\"padding: 0 0.5em 0 0.5em; text-align: left; border: none;\">\n",
       "        numeric__inq_last_6mths\n",
       "    </td>\n",
       "    \n",
       "</tr>\n",
       "        \n",
       "            <tr style=\"background-color: hsl(120, 100.00%, 88.85%); border: none;\">\n",
       "    <td style=\"padding: 0 1em 0 0.5em; text-align: right; border: none;\">\n",
       "        +0.606\n",
       "    </td>\n",
       "    <td style=\"padding: 0 0.5em 0 0.5em; text-align: left; border: none;\">\n",
       "        numeric__tot_hi_cred_lim\n",
       "    </td>\n",
       "    \n",
       "</tr>\n",
       "        \n",
       "            <tr style=\"background-color: hsl(120, 100.00%, 89.99%); border: none;\">\n",
       "    <td style=\"padding: 0 1em 0 0.5em; text-align: right; border: none;\">\n",
       "        +0.520\n",
       "    </td>\n",
       "    <td style=\"padding: 0 0.5em 0 0.5em; text-align: left; border: none;\">\n",
       "        category__home_ownership\n",
       "    </td>\n",
       "    \n",
       "</tr>\n",
       "        \n",
       "            <tr style=\"background-color: hsl(120, 100.00%, 90.36%); border: none;\">\n",
       "    <td style=\"padding: 0 1em 0 0.5em; text-align: right; border: none;\">\n",
       "        +0.493\n",
       "    </td>\n",
       "    <td style=\"padding: 0 0.5em 0 0.5em; text-align: left; border: none;\">\n",
       "        numeric__dti\n",
       "    </td>\n",
       "    \n",
       "</tr>\n",
       "        \n",
       "            <tr style=\"background-color: hsl(120, 100.00%, 90.37%); border: none;\">\n",
       "    <td style=\"padding: 0 1em 0 0.5em; text-align: right; border: none;\">\n",
       "        +0.492\n",
       "    </td>\n",
       "    <td style=\"padding: 0 0.5em 0 0.5em; text-align: left; border: none;\">\n",
       "        numeric__acc_open_past_24mths\n",
       "    </td>\n",
       "    \n",
       "</tr>\n",
       "        \n",
       "            <tr style=\"background-color: hsl(120, 100.00%, 90.45%); border: none;\">\n",
       "    <td style=\"padding: 0 1em 0 0.5em; text-align: right; border: none;\">\n",
       "        +0.486\n",
       "    </td>\n",
       "    <td style=\"padding: 0 0.5em 0 0.5em; text-align: left; border: none;\">\n",
       "        numeric__total_rev_hi_lim\n",
       "    </td>\n",
       "    \n",
       "</tr>\n",
       "        \n",
       "            <tr style=\"background-color: hsl(120, 100.00%, 90.91%); border: none;\">\n",
       "    <td style=\"padding: 0 1em 0 0.5em; text-align: right; border: none;\">\n",
       "        +0.453\n",
       "    </td>\n",
       "    <td style=\"padding: 0 0.5em 0 0.5em; text-align: left; border: none;\">\n",
       "        numeric__num_tl_op_past_12m\n",
       "    </td>\n",
       "    \n",
       "</tr>\n",
       "        \n",
       "            <tr style=\"background-color: hsl(120, 100.00%, 91.88%); border: none;\">\n",
       "    <td style=\"padding: 0 1em 0 0.5em; text-align: right; border: none;\">\n",
       "        +0.385\n",
       "    </td>\n",
       "    <td style=\"padding: 0 0.5em 0 0.5em; text-align: left; border: none;\">\n",
       "        numeric__mo_sin_old_rev_tl_op\n",
       "    </td>\n",
       "    \n",
       "</tr>\n",
       "        \n",
       "            <tr style=\"background-color: hsl(120, 100.00%, 92.27%); border: none;\">\n",
       "    <td style=\"padding: 0 1em 0 0.5em; text-align: right; border: none;\">\n",
       "        +0.359\n",
       "    </td>\n",
       "    <td style=\"padding: 0 0.5em 0 0.5em; text-align: left; border: none;\">\n",
       "        numeric__revol_util\n",
       "    </td>\n",
       "    \n",
       "</tr>\n",
       "        \n",
       "            <tr style=\"background-color: hsl(120, 100.00%, 92.82%); border: none;\">\n",
       "    <td style=\"padding: 0 1em 0 0.5em; text-align: right; border: none;\">\n",
       "        +0.323\n",
       "    </td>\n",
       "    <td style=\"padding: 0 0.5em 0 0.5em; text-align: left; border: none;\">\n",
       "        numeric__installment\n",
       "    </td>\n",
       "    \n",
       "</tr>\n",
       "        \n",
       "            <tr style=\"background-color: hsl(120, 100.00%, 92.96%); border: none;\">\n",
       "    <td style=\"padding: 0 1em 0 0.5em; text-align: right; border: none;\">\n",
       "        +0.314\n",
       "    </td>\n",
       "    <td style=\"padding: 0 0.5em 0 0.5em; text-align: left; border: none;\">\n",
       "        numeric__bc_open_to_buy\n",
       "    </td>\n",
       "    \n",
       "</tr>\n",
       "        \n",
       "            <tr style=\"background-color: hsl(120, 100.00%, 93.39%); border: none;\">\n",
       "    <td style=\"padding: 0 1em 0 0.5em; text-align: right; border: none;\">\n",
       "        +0.287\n",
       "    </td>\n",
       "    <td style=\"padding: 0 0.5em 0 0.5em; text-align: left; border: none;\">\n",
       "        category__addr_state\n",
       "    </td>\n",
       "    \n",
       "</tr>\n",
       "        \n",
       "            <tr style=\"background-color: hsl(120, 100.00%, 93.57%); border: none;\">\n",
       "    <td style=\"padding: 0 1em 0 0.5em; text-align: right; border: none;\">\n",
       "        +0.276\n",
       "    </td>\n",
       "    <td style=\"padding: 0 0.5em 0 0.5em; text-align: left; border: none;\">\n",
       "        numeric__mths_since_recent_bc\n",
       "    </td>\n",
       "    \n",
       "</tr>\n",
       "        \n",
       "            <tr style=\"background-color: hsl(120, 100.00%, 94.23%); border: none;\">\n",
       "    <td style=\"padding: 0 1em 0 0.5em; text-align: right; border: none;\">\n",
       "        +0.237\n",
       "    </td>\n",
       "    <td style=\"padding: 0 0.5em 0 0.5em; text-align: left; border: none;\">\n",
       "        numeric__num_rev_tl_bal_gt_0\n",
       "    </td>\n",
       "    \n",
       "</tr>\n",
       "        \n",
       "            <tr style=\"background-color: hsl(120, 100.00%, 94.43%); border: none;\">\n",
       "    <td style=\"padding: 0 1em 0 0.5em; text-align: right; border: none;\">\n",
       "        +0.225\n",
       "    </td>\n",
       "    <td style=\"padding: 0 0.5em 0 0.5em; text-align: left; border: none;\">\n",
       "        numeric__percent_bc_gt_75\n",
       "    </td>\n",
       "    \n",
       "</tr>\n",
       "        \n",
       "            <tr style=\"background-color: hsl(120, 100.00%, 94.82%); border: none;\">\n",
       "    <td style=\"padding: 0 1em 0 0.5em; text-align: right; border: none;\">\n",
       "        +0.203\n",
       "    </td>\n",
       "    <td style=\"padding: 0 0.5em 0 0.5em; text-align: left; border: none;\">\n",
       "        numeric__bc_util\n",
       "    </td>\n",
       "    \n",
       "</tr>\n",
       "        \n",
       "            <tr style=\"background-color: hsl(120, 100.00%, 95.81%); border: none;\">\n",
       "    <td style=\"padding: 0 1em 0 0.5em; text-align: right; border: none;\">\n",
       "        +0.150\n",
       "    </td>\n",
       "    <td style=\"padding: 0 0.5em 0 0.5em; text-align: left; border: none;\">\n",
       "        numeric__mort_acc\n",
       "    </td>\n",
       "    \n",
       "</tr>\n",
       "        \n",
       "            <tr style=\"background-color: hsl(120, 100.00%, 97.34%); border: none;\">\n",
       "    <td style=\"padding: 0 1em 0 0.5em; text-align: right; border: none;\">\n",
       "        +0.078\n",
       "    </td>\n",
       "    <td style=\"padding: 0 0.5em 0 0.5em; text-align: left; border: none;\">\n",
       "        numeric__num_actv_rev_tl\n",
       "    </td>\n",
       "    \n",
       "</tr>\n",
       "        \n",
       "            <tr style=\"background-color: hsl(120, 100.00%, 97.54%); border: none;\">\n",
       "    <td style=\"padding: 0 1em 0 0.5em; text-align: right; border: none;\">\n",
       "        +0.070\n",
       "    </td>\n",
       "    <td style=\"padding: 0 0.5em 0 0.5em; text-align: left; border: none;\">\n",
       "        numeric__mths_since_last_delinq\n",
       "    </td>\n",
       "    \n",
       "</tr>\n",
       "        \n",
       "            <tr style=\"background-color: hsl(120, 100.00%, 98.97%); border: none;\">\n",
       "    <td style=\"padding: 0 1em 0 0.5em; text-align: right; border: none;\">\n",
       "        +0.020\n",
       "    </td>\n",
       "    <td style=\"padding: 0 0.5em 0 0.5em; text-align: left; border: none;\">\n",
       "        numeric__mo_sin_rcnt_tl\n",
       "    </td>\n",
       "    \n",
       "</tr>\n",
       "        \n",
       "            <tr style=\"background-color: hsl(120, 100.00%, 99.05%); border: none;\">\n",
       "    <td style=\"padding: 0 1em 0 0.5em; text-align: right; border: none;\">\n",
       "        +0.018\n",
       "    </td>\n",
       "    <td style=\"padding: 0 0.5em 0 0.5em; text-align: left; border: none;\">\n",
       "        numeric__mths_since_recent_inq\n",
       "    </td>\n",
       "    \n",
       "</tr>\n",
       "        \n",
       "        \n",
       "\n",
       "        \n",
       "        \n",
       "            <tr style=\"background-color: hsl(0, 100.00%, 96.73%); border: none;\">\n",
       "    <td style=\"padding: 0 1em 0 0.5em; text-align: right; border: none;\">\n",
       "        -0.105\n",
       "    </td>\n",
       "    <td style=\"padding: 0 0.5em 0 0.5em; text-align: left; border: none;\">\n",
       "        category__zip_code\n",
       "    </td>\n",
       "    \n",
       "</tr>\n",
       "        \n",
       "            <tr style=\"background-color: hsl(0, 100.00%, 80.00%); border: none;\">\n",
       "    <td style=\"padding: 0 1em 0 0.5em; text-align: right; border: none;\">\n",
       "        -1.397\n",
       "    </td>\n",
       "    <td style=\"padding: 0 0.5em 0 0.5em; text-align: left; border: none;\">\n",
       "        &lt;BIAS&gt;\n",
       "    </td>\n",
       "    \n",
       "</tr>\n",
       "        \n",
       "\n",
       "        </tbody>\n",
       "    </table>\n",
       "\n",
       "            \n",
       "        \n",
       "\n",
       "        \n",
       "\n",
       "\n",
       "\n",
       "    \n",
       "\n",
       "    \n",
       "\n",
       "    \n",
       "\n",
       "    \n",
       "\n",
       "\n",
       "    \n",
       "\n",
       "    \n",
       "\n",
       "    \n",
       "\n",
       "    \n",
       "\n",
       "    \n",
       "\n",
       "    \n",
       "\n",
       "\n",
       "    \n",
       "\n",
       "    \n",
       "\n",
       "    \n",
       "\n",
       "    \n",
       "\n",
       "    \n",
       "\n",
       "    \n",
       "\n",
       "\n",
       "\n"
      ],
      "text/plain": [
       "<IPython.core.display.HTML object>"
      ]
     },
     "execution_count": 44,
     "metadata": {},
     "output_type": "execute_result"
    }
   ],
   "source": [
    "eli5.show_weights(pipe_212_lasso.named_steps['logisticregression'], \n",
    "                  feature_names = pipe_212_lasso.named_steps['columntransformer'].get_feature_names(),\n",
    "                 top=31)"
   ]
  },
  {
   "cell_type": "markdown",
   "metadata": {},
   "source": [
    "## Neutral network"
   ]
  },
  {
   "cell_type": "code",
   "execution_count": 45,
   "metadata": {},
   "outputs": [],
   "source": [
    "#df_train = df_train_.sample(300000, random_state=seed).reset_index(drop=True)\n",
    "#df_test = df_test_.sample(100000, random_state=seed).reset_index(drop=True)"
   ]
  },
  {
   "cell_type": "code",
   "execution_count": 46,
   "metadata": {},
   "outputs": [
    {
     "data": {
      "text/plain": [
       "5419"
      ]
     },
     "execution_count": 46,
     "metadata": {},
     "output_type": "execute_result"
    }
   ],
   "source": [
    "gc.collect()"
   ]
  },
  {
   "cell_type": "code",
   "execution_count": 47,
   "metadata": {},
   "outputs": [],
   "source": [
    "from sklearn.pipeline import make_pipeline, make_union\n",
    "from sklearn.compose import ColumnTransformer\n",
    "from sklearn.preprocessing import StandardScaler, Normalizer, MinMaxScaler\n",
    "from category_encoders import OneHotEncoder, TargetEncoder\n",
    "from sklearn.linear_model import Lasso, Ridge\n",
    "from sklearn import metrics\n",
    "import eli5\n",
    "\n",
    "from category_encoders import OrdinalEncoder\n",
    "import helpers\n",
    "\n",
    "seed = 666"
   ]
  },
  {
   "cell_type": "code",
   "execution_count": 48,
   "metadata": {},
   "outputs": [],
   "source": [
    "import tensorflow as tf\n",
    "from sklearn.metrics import roc_auc_score\n",
    "\n",
    "def auroc(y_true, y_pred):\n",
    "    return tf.py_func(roc_auc_score, (y_true, y_pred), tf.double)"
   ]
  },
  {
   "cell_type": "code",
   "execution_count": 49,
   "metadata": {},
   "outputs": [
    {
     "name": "stderr",
     "output_type": "stream",
     "text": [
      "Using TensorFlow backend.\n"
     ]
    }
   ],
   "source": [
    "from keras.models import Sequential,Model\n",
    "from keras.layers import Dense, Activation, InputLayer, BatchNormalization, Dropout\n",
    "from keras.wrappers.scikit_learn import KerasClassifier, KerasRegressor\n",
    "from keras.initializers import glorot_normal\n",
    "from keras.engine.input_layer import Input\n",
    "from keras.optimizers import Adam, SGD\n",
    "\n",
    "opt = SGD(lr=0.01, momentum=0.9)\n",
    "\n",
    "# For custom metrics\n",
    "import keras.backend as K\n",
    "\n",
    "\n",
    "def create_model():\n",
    "    model_in = Input(shape=(83,), dtype='float32', sparse=False)\n",
    "    out = Dense(192, activation='relu')(model_in)\n",
    "    out = Dropout(0.2)(out)\n",
    "    out = Dense(64, activation='relu')(out)\n",
    "    out = Dropout(0.2)(out)\n",
    "    out = Dense(1, activation='sigmoid')(out)\n",
    "    model = Model(model_in, out)\n",
    "    model.compile(loss='binary_crossentropy', optimizer=opt, metrics=['accuracy', auroc])\n",
    "    return model"
   ]
  },
  {
   "cell_type": "code",
   "execution_count": 50,
   "metadata": {},
   "outputs": [],
   "source": [
    "exclude = []\n",
    "pipe_221_nn = make_pipeline(\n",
    "    ColumnTransformer([\n",
    "        ('numeric', helpers.PassThroughOrReplace(fillna=True, replace_dict=dict_repl),\n",
    "         [i for i in features_all_numeric if i not in exclude]),\n",
    "        ('category',TargetEncoder(),[i for i in features_all_category if i not in exclude])\n",
    "    ]),\n",
    "    StandardScaler(),\n",
    "    KerasClassifier(build_fn=create_model, epochs=10, batch_size=64, verbose=1)\n",
    "    )"
   ]
  },
  {
   "cell_type": "code",
   "execution_count": 52,
   "metadata": {
    "scrolled": false
   },
   "outputs": [
    {
     "name": "stdout",
     "output_type": "stream",
     "text": [
      "Epoch 1/10\n",
      "200000/200000 [==============================] - 11s 54us/step - loss: 0.4375 - acc: 0.8250 - auroc: 0.6734\n",
      "Epoch 2/10\n",
      "200000/200000 [==============================] - 13s 65us/step - loss: 0.4284 - acc: 0.8259 - auroc: 0.6937\n",
      "Epoch 3/10\n",
      "200000/200000 [==============================] - 15s 73us/step - loss: 0.4265 - acc: 0.8255 - auroc: 0.6986\n",
      "Epoch 4/10\n",
      "200000/200000 [==============================] - 12s 59us/step - loss: 0.4252 - acc: 0.8261 - auroc: 0.7029\n",
      "Epoch 5/10\n",
      "200000/200000 [==============================] - 11s 56us/step - loss: 0.4241 - acc: 0.8262 - auroc: 0.7056\n",
      "Epoch 6/10\n",
      "200000/200000 [==============================] - 14s 70us/step - loss: 0.4230 - acc: 0.8261 - auroc: 0.7070 0s - loss: 0.4227 - acc: 0.8264\n",
      "Epoch 7/10\n",
      "200000/200000 [==============================] - 14s 69us/step - loss: 0.4226 - acc: 0.8263 - auroc: 0.7080\n",
      "Epoch 8/10\n",
      "200000/200000 [==============================] - 14s 68us/step - loss: 0.4220 - acc: 0.8260 - auroc: 0.7098\n",
      "Epoch 9/10\n",
      "200000/200000 [==============================] - 10s 52us/step - loss: 0.4215 - acc: 0.8263 - auroc: 0.7123\n",
      "Epoch 10/10\n",
      "200000/200000 [==============================] - 11s 55us/step - loss: 0.4204 - acc: 0.8264 - auroc: 0.7138\n",
      "CPU times: user 2min 42s, sys: 11.9 s, total: 2min 54s\n",
      "Wall time: 2min 7s\n"
     ]
    },
    {
     "data": {
      "text/plain": [
       "Pipeline(memory=None,\n",
       "         steps=[('columntransformer',\n",
       "                 ColumnTransformer(n_jobs=None, remainder='drop',\n",
       "                                   sparse_threshold=0.3,\n",
       "                                   transformer_weights=None,\n",
       "                                   transformers=[('numeric',\n",
       "                                                  PassThroughOrReplace(fillna=True,\n",
       "                                                                       replace_dict={'zip_code': {'007xx': 3,\n",
       "                                                                                                  '008xx': 4,\n",
       "                                                                                                  '009xx': 2,\n",
       "                                                                                                  '010xx': 1,\n",
       "                                                                                                  '011xx': 0,\n",
       "                                                                                                  '012xx': 1,\n",
       "                                                                                                  '013xx': 1,\n",
       "                                                                                                  '014xx': 1,\n",
       "                                                                                                  '015xx': 1,\n",
       "                                                                                                  '016xx': 1,\n",
       "                                                                                                  '017xx': 3,\n",
       "                                                                                                  '018xx': 1,\n",
       "                                                                                                  '019...\n",
       "                                                  ['term', 'home_ownership',\n",
       "                                                   'purpose', 'zip_code',\n",
       "                                                   'addr_state',\n",
       "                                                   'initial_list_status',\n",
       "                                                   'application_type',\n",
       "                                                   'verification_status_joint',\n",
       "                                                   'sec_app_earliest_cr_line',\n",
       "                                                   'disbursement_method'])],\n",
       "                                   verbose=False)),\n",
       "                ('standardscaler',\n",
       "                 StandardScaler(copy=True, with_mean=True, with_std=True)),\n",
       "                ('kerasclassifier',\n",
       "                 <keras.wrappers.scikit_learn.KerasClassifier object at 0x126239b90>)],\n",
       "         verbose=False)"
      ]
     },
     "execution_count": 52,
     "metadata": {},
     "output_type": "execute_result"
    }
   ],
   "source": [
    "%%time\n",
    "pipe_221_nn.fit(df_train, df_train.default)"
   ]
  },
  {
   "cell_type": "markdown",
   "metadata": {},
   "source": [
    "NOTE - need more data to train and better hardware, nevertheless I think that data doest have the information to prepare good predictions "
   ]
  },
  {
   "cell_type": "code",
   "execution_count": 53,
   "metadata": {},
   "outputs": [
    {
     "name": "stdout",
     "output_type": "stream",
     "text": [
      "200000/200000 [==============================] - 2s 8us/step\n",
      "Train AUC= 0.724\n",
      "50000/50000 [==============================] - 0s 9us/step\n",
      "Test AUC= 0.700\n",
      "CPU times: user 3.39 s, sys: 488 ms, total: 3.88 s\n",
      "Wall time: 3.21 s\n"
     ]
    },
    {
     "data": {
      "text/plain": [
       "(0.7240470798550231, 0.7003267284424176)"
      ]
     },
     "execution_count": 53,
     "metadata": {},
     "output_type": "execute_result"
    },
    {
     "data": {
      "image/png": "[encoded data removed]",
      "text/plain": [
       "<Figure size 504x504 with 1 Axes>"
      ]
     },
     "metadata": {
      "needs_background": "light"
     },
     "output_type": "display_data"
    }
   ],
   "source": [
    "%%time\n",
    "calculate_AUC_prop(pipe_221_nn, dftrain = df_train, dftest = df_test)"
   ]
  },
  {
   "cell_type": "markdown",
   "metadata": {},
   "source": [
    "## CatBoost + Scikit-Optimize"
   ]
  },
  {
   "cell_type": "markdown",
   "metadata": {},
   "source": [
    "Scikit-Optimize part is in another notebook: Google Collab (GPU) `05_model_collab_GPU.ipynb`"
   ]
  },
  {
   "cell_type": "markdown",
   "metadata": {},
   "source": [
    "```\n",
    "CatBoost took 405.34 seconds,  candidates checked: 1, best CV score: 0.700 ± 0.001\n",
    "Best parameters:\n",
    "{'bagging_temperature': 0.5931923511642098,\n",
    " 'border_count': 52,\n",
    " 'depth': 6,\n",
    " 'iterations': 70,\n",
    " 'l2_leaf_reg': 14,\n",
    " 'learning_rate': 0.9473066099743538,\n",
    " 'random_strength': 7.63131053187394e-07,\n",
    " 'scale_pos_weight': 1.3052104983649078}\n",
    " ```"
   ]
  },
  {
   "cell_type": "code",
   "execution_count": 54,
   "metadata": {},
   "outputs": [],
   "source": [
    "from catboost import CatBoostClassifier, Pool\n",
    "from sklearn import metrics\n"
   ]
  },
  {
   "cell_type": "code",
   "execution_count": 55,
   "metadata": {},
   "outputs": [],
   "source": [
    "df_train_c = df_train.copy()\n",
    "df_test_c = df_test.copy()"
   ]
  },
  {
   "cell_type": "code",
   "execution_count": 56,
   "metadata": {},
   "outputs": [],
   "source": [
    "# convert text to category \n",
    "for col in features_all_category:\n",
    "    df_train_c[col] = df_train_c[col].replace([' '],['nocat']).fillna('nocat').astype('category')\n",
    "\n",
    "for col in features_all_category:\n",
    "    df_test_c[col] = df_test_c[col].replace([' '],['nocat']).fillna('nocat').astype('category')\n"
   ]
  },
  {
   "cell_type": "code",
   "execution_count": 57,
   "metadata": {},
   "outputs": [],
   "source": [
    "train_pool = Pool(data=df_train_c[features_all_category+features_all_numeric], \n",
    "                  label=df_train_c.default.to_list(), cat_features=features_all_category)\n",
    "\n",
    "test_pool = Pool(data=df_test_c[features_all_category+features_all_numeric],\n",
    "                 label=df_test_c.default.to_list(), cat_features=features_all_category)\n"
   ]
  },
  {
   "cell_type": "markdown",
   "metadata": {},
   "source": [
    "params from Google Collab - `05_model_collab_GPU.ipynb`"
   ]
  },
  {
   "cell_type": "code",
   "execution_count": 58,
   "metadata": {},
   "outputs": [],
   "source": [
    "param = {'bagging_temperature': 0.5434030676903125,\n",
    " 'depth': 7,\n",
    " 'iterations': 154,\n",
    " 'l2_leaf_reg': 25,\n",
    " 'learning_rate': 0.04447541043186938,\n",
    " 'random_strength': 3.245977736555784e-09,\n",
    " 'scale_pos_weight': 0.5750700246521092}"
   ]
  },
  {
   "cell_type": "code",
   "execution_count": 59,
   "metadata": {},
   "outputs": [],
   "source": [
    "cat_cls = CatBoostClassifier(**param, loss_function='Logloss',\n",
    "                         custom_metric = ['Logloss', 'AUC'],\n",
    "                         cat_features = features_all_category,\n",
    "                         verbose = False)"
   ]
  },
  {
   "cell_type": "code",
   "execution_count": 111,
   "metadata": {},
   "outputs": [
    {
     "data": {
      "text/plain": [
       "<matplotlib.axes._subplots.AxesSubplot at 0x161d30a90>"
      ]
     },
     "execution_count": 111,
     "metadata": {},
     "output_type": "execute_result"
    },
    {
     "data": {
      "image/png": "[encoded data removed]",
      "text/plain": [
       "<Figure size 720x432 with 1 Axes>"
      ]
     },
     "metadata": {
      "needs_background": "light"
     },
     "output_type": "display_data"
    }
   ],
   "source": [
    "import operator\n",
    "fi = []\n",
    "for i in zip(train_pool.get_feature_names(),cat_cls.get_feature_importance(type='PredictionValuesChange')):\n",
    "    fi += [{\"name\":i[0],\"PredictionValuesChange\":i[1]}]\n",
    "    \n",
    "pd.DataFrame(fi).sort_values(\"PredictionValuesChange\",ascending=False).head(30).plot.bar(x='name', y='PredictionValuesChange', figsize =(10,6))\n"
   ]
  },
  {
   "cell_type": "code",
   "execution_count": 60,
   "metadata": {},
   "outputs": [
    {
     "name": "stdout",
     "output_type": "stream",
     "text": [
      "CPU times: user 1min 51s, sys: 7.35 s, total: 1min 59s\n",
      "Wall time: 41.1 s\n"
     ]
    },
    {
     "data": {
      "text/plain": [
       "<catboost.core.CatBoostClassifier at 0x127074dd0>"
      ]
     },
     "execution_count": 60,
     "metadata": {},
     "output_type": "execute_result"
    }
   ],
   "source": [
    "%%time\n",
    "\n",
    "cat_cls.fit(train_pool)"
   ]
  },
  {
   "cell_type": "code",
   "execution_count": 61,
   "metadata": {},
   "outputs": [
    {
     "name": "stdout",
     "output_type": "stream",
     "text": [
      "Train AUC= 0.711\n",
      "Test AUC= 0.701\n"
     ]
    },
    {
     "data": {
      "text/plain": [
       "(0.71132563060825, 0.7010904231669306)"
      ]
     },
     "execution_count": 61,
     "metadata": {},
     "output_type": "execute_result"
    },
    {
     "data": {
      "image/png": "[encoded data removed]",
      "text/plain": [
       "<Figure size 504x504 with 1 Axes>"
      ]
     },
     "metadata": {
      "needs_background": "light"
     },
     "output_type": "display_data"
    }
   ],
   "source": [
    "calculate_AUC_prop_cat(cat_cls, train_pool, test_pool, df_train.default.to_list(), df_test.default.to_list())"
   ]
  },
  {
   "cell_type": "markdown",
   "metadata": {},
   "source": [
    "NOTE - need more data to train and better hardware, nevertheless I think that data doest have the information to prepare good predictions "
   ]
  },
  {
   "cell_type": "markdown",
   "metadata": {},
   "source": [
    "# Blend"
   ]
  },
  {
   "cell_type": "code",
   "execution_count": 62,
   "metadata": {},
   "outputs": [],
   "source": [
    "LC_model = df_train.groupby(['sub_grade'])[['default']].mean()\n",
    "def_rate_by_sub_grade= {}\n",
    "for i in LC_model.itertuples():\n",
    "    def_rate_by_sub_grade[i.Index]= i.default\n",
    "    \n",
    "def LC_model_predict(df):\n",
    "    return df.sub_grade.replace(def_rate_by_sub_grade).to_list()\n",
    "\n"
   ]
  },
  {
   "cell_type": "code",
   "execution_count": 63,
   "metadata": {},
   "outputs": [
    {
     "name": "stdout",
     "output_type": "stream",
     "text": [
      "200000/200000 [==============================] - 2s 9us/step\n",
      "50000/50000 [==============================] - 0s 7us/step\n",
      "CPU times: user 19.8 s, sys: 1.98 s, total: 21.8 s\n",
      "Wall time: 21.3 s\n"
     ]
    }
   ],
   "source": [
    "%%time\n",
    "tr_lc_model = LC_model_predict(df_train)\n",
    "tr_212 = pipe_212_lasso.predict_proba(df_train)[:,1]\n",
    "tr_221 = pipe_221_nn.predict_proba(df_train)[:,1]\n",
    "tr_cat = cat_cls.predict_proba(train_pool)[:,1]\n",
    "\n",
    "te_lc_model = LC_model_predict(df_test)\n",
    "te_212 = pipe_212_lasso.predict_proba(df_test)[:,1]\n",
    "te_221 = pipe_221_nn.predict_proba(df_test)[:,1]\n",
    "te_cat = cat_cls.predict_proba(test_pool)[:,1]"
   ]
  },
  {
   "cell_type": "code",
   "execution_count": 64,
   "metadata": {},
   "outputs": [],
   "source": [
    "tr_lc_model = LC_model_predict(df_train)\n",
    "te_lc_model = LC_model_predict(df_test)\n",
    "\n"
   ]
  },
  {
   "cell_type": "code",
   "execution_count": 65,
   "metadata": {},
   "outputs": [],
   "source": [
    "y_train_pred = np.array([tr_lc_model,tr_212,tr_221, tr_cat])\n",
    "y_test_pred = np.array([te_lc_model,te_212,te_221, te_cat])\n"
   ]
  },
  {
   "cell_type": "code",
   "execution_count": 66,
   "metadata": {},
   "outputs": [],
   "source": [
    "from scipy.special import softmax\n",
    "from scipy.optimize import minimize\n",
    "\n",
    "\n",
    "def roc_optimaize(x):\n",
    "    \n",
    "    x=softmax(np.abs(x))\n",
    "    blend_weights = x.reshape(-1,1)\n",
    "    #y_train_pred_blend = (y_train_pred * blend_weights).sum(axis=0)\n",
    "    y_test_pred_blend = (y_test_pred * blend_weights).sum(axis=0)\n",
    "\n",
    "    fpr_test, tpr_test, thresholds_test = metrics.roc_curve(df_test.default.to_list(), y_test_pred_blend, pos_label=1)\n",
    "    roc_auc_test = metrics.auc(fpr_test, tpr_test)\n",
    "    return roc_auc_test*(-1)\n",
    "\n",
    "\n",
    "nbr = y_train_pred.shape[0]\n",
    "wsp = [None for i in range(nbr)]\n",
    "for i in range(nbr):\n",
    "    wsp[i] = round(1/nbr,4)\n",
    "\n",
    "x0 = np.array(wsp)\n"
   ]
  },
  {
   "cell_type": "code",
   "execution_count": 67,
   "metadata": {
    "scrolled": true
   },
   "outputs": [
    {
     "name": "stdout",
     "output_type": "stream",
     "text": [
      "Optimization terminated successfully.\n",
      "         Current function value: -0.711485\n",
      "         Iterations: 153\n",
      "         Function evaluations: 334\n"
     ]
    }
   ],
   "source": [
    "#https://docs.scipy.org/doc/scipy/reference/tutorial/optimize.html\n",
    "res = minimize(roc_optimaize, x0, method='nelder-mead',\n",
    "               options={'xtol': 1e-8, 'disp': True})"
   ]
  },
  {
   "cell_type": "code",
   "execution_count": 68,
   "metadata": {},
   "outputs": [],
   "source": [
    "blend_weights = np.array(softmax(np.abs(res.x))).reshape(-1,1)"
   ]
  },
  {
   "cell_type": "code",
   "execution_count": 69,
   "metadata": {},
   "outputs": [
    {
     "name": "stdout",
     "output_type": "stream",
     "text": [
      "[[0.3127]\n",
      " [0.077 ]\n",
      " [0.3843]\n",
      " [0.226 ]]\n"
     ]
    }
   ],
   "source": [
    "print(np.round(blend_weights,4))"
   ]
  },
  {
   "cell_type": "code",
   "execution_count": 70,
   "metadata": {},
   "outputs": [],
   "source": [
    "y_train_pred_blend = (y_train_pred * blend_weights).sum(axis=0)\n",
    "y_test_pred_blend = (y_test_pred * blend_weights).sum(axis=0)"
   ]
  },
  {
   "cell_type": "code",
   "execution_count": 71,
   "metadata": {},
   "outputs": [
    {
     "name": "stdout",
     "output_type": "stream",
     "text": [
      "Train AUC= 0.725\n",
      "Test AUC= 0.711\n"
     ]
    },
    {
     "data": {
      "text/plain": [
       "(0.7248367156946158, 0.711484927488223)"
      ]
     },
     "execution_count": 71,
     "metadata": {},
     "output_type": "execute_result"
    },
    {
     "data": {
      "image/png": "[encoded data removed]",
      "text/plain": [
       "<Figure size 504x504 with 1 Axes>"
      ]
     },
     "metadata": {
      "needs_background": "light"
     },
     "output_type": "display_data"
    }
   ],
   "source": [
    "calculate_AUC_blend(y_train_pred_blend, y_test_pred_blend, df_train.default.to_list(), df_test.default.to_list())\n"
   ]
  }
 ],
 "metadata": {
  "kernelspec": {
   "display_name": "lending_club",
   "language": "python",
   "name": "lending_club"
  },
  "language_info": {
   "codemirror_mode": {
    "name": "ipython",
    "version": 3
   },
   "file_extension": ".py",
   "mimetype": "text/x-python",
   "name": "python",
   "nbconvert_exporter": "python",
   "pygments_lexer": "ipython3",
   "version": "3.7.4"
  },
  "toc": {
   "base_numbering": 1,
   "nav_menu": {},
   "number_sections": true,
   "sideBar": true,
   "skip_h1_title": false,
   "title_cell": "Table of Contents",
   "title_sidebar": "Contents",
   "toc_cell": false,
   "toc_position": {
    "height": "calc(100% - 180px)",
    "left": "10px",
    "top": "150px",
    "width": "188px"
   },
   "toc_section_display": true,
   "toc_window_display": true
  }
 },
 "nbformat": 4,
 "nbformat_minor": 2
}
