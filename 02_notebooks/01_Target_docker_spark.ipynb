{
 "cells": [
  {
   "cell_type": "markdown",
   "metadata": {},
   "source": [
    "## Set Environment and load data"
   ]
  },
  {
   "cell_type": "code",
   "execution_count": 1,
   "metadata": {},
   "outputs": [],
   "source": [
    "import os\n",
    "import sys\n",
    "import pandas as pd\n",
    "import codecs\n",
    "import re\n",
    "import unicodedata\n",
    "\n",
    "from pyspark.sql import SparkSession\n",
    "import pyspark.sql.functions as f\n",
    "\n",
    "import warnings\n",
    "warnings.filterwarnings('ignore')\n",
    "\n",
    "import matplotlib\n",
    "import matplotlib.pyplot as plt\n",
    "import seaborn as sns\n",
    "%matplotlib inline"
   ]
  },
  {
   "cell_type": "code",
   "execution_count": 2,
   "metadata": {},
   "outputs": [],
   "source": [
    "# setup env inside docker\n",
    "\n",
    "# add path with python packages installed outside of the docker\n",
    "sys.path.append('/home/jovyan/work/98_sys_files/site-packages')\n",
    "#!pip install pyallegro -t /home/jovyan/work/98_sys_files/site-packages \n",
    "\n",
    "# add jar driver to connect to sqlite\n",
    "os.environ['PYSPARK_SUBMIT_ARGS'] = '--jars /home/jovyan/work/98_sys_files/jar/sqlite-jdbc-3.28.0.jar pyspark-shell'"
   ]
  },
  {
   "cell_type": "code",
   "execution_count": 3,
   "metadata": {},
   "outputs": [],
   "source": [
    "#run spark sesion \n",
    "spark = SparkSession.builder \\\n",
    "    .appName('lending-club-loan DataFrame') \\\n",
    "    .master('local[*]') \\\n",
    "    .getOrCreate()\n",
    "\n",
    "# load schema\n",
    "with codecs.open(\"/home/jovyan/work/01_data/jdbc_schema\",\"r\") as f:\n",
    "    ncschema = f.read()\n",
    "\n",
    "# load data from sqlite\n",
    "driver = \"org.sqlite.JDBC\"\n",
    "path = '/home/jovyan/work/01_data/db/database.sqlite'\n",
    "url = \"jdbc:sqlite:\" + path\n",
    "tablename = \"loan\"\n",
    "\n",
    "DF = spark.read \\\n",
    ".option(\"driver\", driver) \\\n",
    ".option(\"customSchema\", ncschema) \\\n",
    ".jdbc(url, tablename)\n",
    "\n",
    "# register sql table\n",
    "DF.createOrReplaceTempView(\"loan\")"
   ]
  },
  {
   "cell_type": "markdown",
   "metadata": {},
   "source": [
    "https://www.kaggle.com/wendykan/lending-club-loan-data"
   ]
  },
  {
   "cell_type": "markdown",
   "metadata": {},
   "source": [
    "## A glance at single record"
   ]
  },
  {
   "cell_type": "code",
   "execution_count": 4,
   "metadata": {
    "scrolled": false
   },
   "outputs": [
    {
     "name": "stdout",
     "output_type": "stream",
     "text": [
      "-RECORD 0--------------------------------------------------------\n",
      " id                                         |                    \n",
      " member_id                                  |                    \n",
      " loan_amnt                                  | 2500               \n",
      " funded_amnt                                | 2500               \n",
      " funded_amnt_inv                            | 2500               \n",
      " term                                       |  36 months         \n",
      " int_rate                                   | 13.56              \n",
      " installment                                | 84.92              \n",
      " grade                                      | C                  \n",
      " sub_grade                                  | C1                 \n",
      " emp_title                                  | Chef               \n",
      " emp_length                                 | 10+ years          \n",
      " home_ownership                             | RENT               \n",
      " annual_inc                                 | 55000              \n",
      " verification_status                        | Not Verified       \n",
      " issue_d                                    | Dec-2018           \n",
      " loan_status                                | Current            \n",
      " pymnt_plan                                 | n                  \n",
      " url                                        |                    \n",
      " desc                                       |                    \n",
      " purpose                                    | debt_consolidation \n",
      " title                                      | Debt consolidation \n",
      " zip_code                                   | 109xx              \n",
      " addr_state                                 | NY                 \n",
      " dti                                        | 18.24              \n",
      " delinq_2yrs                                | 0                  \n",
      " earliest_cr_line                           | Apr-2001           \n",
      " inq_last_6mths                             | 1                  \n",
      " mths_since_last_delinq                     | 0                  \n",
      " mths_since_last_record                     | 45                 \n",
      " open_acc                                   | 9                  \n",
      " pub_rec                                    | 1                  \n",
      " revol_bal                                  | 4341               \n",
      " revol_util                                 | 10.3               \n",
      " total_acc                                  | 34                 \n",
      " initial_list_status                        | w                  \n",
      " out_prncp                                  | 2386.02            \n",
      " out_prncp_inv                              | 2386.02            \n",
      " total_pymnt                                | 167.02             \n",
      " total_pymnt_inv                            | 167.02             \n",
      " total_rec_prncp                            | 113.98             \n",
      " total_rec_int                              | 53.04              \n",
      " total_rec_late_fee                         | 0.00               \n",
      " recoveries                                 | 0.00               \n",
      " collection_recovery_fee                    | 0.00               \n",
      " last_pymnt_d                               | Feb-2019           \n",
      " last_pymnt_amnt                            | 84.92              \n",
      " next_pymnt_d                               | Mar-2019           \n",
      " last_credit_pull_d                         | Feb-2019           \n",
      " collections_12_mths_ex_med                 | 0                  \n",
      " mths_since_last_major_derog                | 0                  \n",
      " policy_code                                | 1                  \n",
      " application_type                           | Individual         \n",
      " annual_inc_joint                           | 0                  \n",
      " dti_joint                                  |                    \n",
      " verification_status_joint                  |                    \n",
      " acc_now_delinq                             | 0                  \n",
      " tot_coll_amt                               | 0                  \n",
      " tot_cur_bal                                | 16901              \n",
      " open_acc_6m                                | 2                  \n",
      " open_act_il                                | 2                  \n",
      " open_il_12m                                | 1                  \n",
      " open_il_24m                                | 2                  \n",
      " mths_since_rcnt_il                         | 2                  \n",
      " total_bal_il                               | 12560              \n",
      " il_util                                    | 69                 \n",
      " open_rv_12m                                | 2                  \n",
      " open_rv_24m                                | 7                  \n",
      " max_bal_bc                                 | 2137               \n",
      " all_util                                   | 28                 \n",
      " total_rev_hi_lim                           | 42000              \n",
      " inq_fi                                     | 1                  \n",
      " total_cu_tl                                | 11                 \n",
      " inq_last_12m                               | 2                  \n",
      " acc_open_past_24mths                       | 9                  \n",
      " avg_cur_bal                                | 1878               \n",
      " bc_open_to_buy                             | 34360              \n",
      " bc_util                                    | 5.9                \n",
      " chargeoff_within_12_mths                   | 0                  \n",
      " delinq_amnt                                | 0                  \n",
      " mo_sin_old_il_acct                         | 140                \n",
      " mo_sin_old_rev_tl_op                       | 212                \n",
      " mo_sin_rcnt_rev_tl_op                      | 1                  \n",
      " mo_sin_rcnt_tl                             | 1                  \n",
      " mort_acc                                   | 0                  \n",
      " mths_since_recent_bc                       | 1                  \n",
      " mths_since_recent_bc_dlq                   | 0                  \n",
      " mths_since_recent_inq                      | 2                  \n",
      " mths_since_recent_revol_delinq             | 0                  \n",
      " num_accts_ever_120_pd                      | 0                  \n",
      " num_actv_bc_tl                             | 2                  \n",
      " num_actv_rev_tl                            | 5                  \n",
      " num_bc_sats                                | 3                  \n",
      " num_bc_tl                                  | 3                  \n",
      " num_il_tl                                  | 16                 \n",
      " num_op_rev_tl                              | 7                  \n",
      " num_rev_accts                              | 18                 \n",
      " num_rev_tl_bal_gt_0                        | 5                  \n",
      " num_sats                                   | 9                  \n",
      " num_tl_120dpd_2m                           | 0                  \n",
      " num_tl_30dpd                               | 0                  \n",
      " num_tl_90g_dpd_24m                         | 0                  \n",
      " num_tl_op_past_12m                         | 3                  \n",
      " pct_tl_nvr_dlq                             | 100                \n",
      " percent_bc_gt_75                           | 0                  \n",
      " pub_rec_bankruptcies                       | 1                  \n",
      " tax_liens                                  | 0                  \n",
      " tot_hi_cred_lim                            | 60124              \n",
      " total_bal_ex_mort                          | 16901              \n",
      " total_bc_limit                             | 36500              \n",
      " total_il_high_credit_limit                 | 18124              \n",
      " revol_bal_joint                            | 0                  \n",
      " sec_app_earliest_cr_line                   |                    \n",
      " sec_app_inq_last_6mths                     | 0                  \n",
      " sec_app_mort_acc                           | 0                  \n",
      " sec_app_open_acc                           | 0                  \n",
      " sec_app_revol_util                         | 0                  \n",
      " sec_app_open_act_il                        | 0                  \n",
      " sec_app_num_rev_accts                      | 0                  \n",
      " sec_app_chargeoff_within_12_mths           | 0                  \n",
      " sec_app_collections_12_mths_ex_med         | 0                  \n",
      " sec_app_mths_since_last_major_derog        | 0                  \n",
      " hardship_flag                              | N                  \n",
      " hardship_type                              |                    \n",
      " hardship_reason                            |                    \n",
      " hardship_status                            |                    \n",
      " deferral_term                              | 0                  \n",
      " hardship_amount                            |                    \n",
      " hardship_start_date                        |                    \n",
      " hardship_end_date                          |                    \n",
      " payment_plan_start_date                    |                    \n",
      " hardship_length                            | 0                  \n",
      " hardship_dpd                               | 0                  \n",
      " hardship_loan_status                       |                    \n",
      " orig_projected_additional_accrued_interest |                    \n",
      " hardship_payoff_balance_amount             |                    \n",
      " hardship_last_payment_amount               |                    \n",
      " disbursement_method                        | Cash               \n",
      " debt_settlement_flag                       | N                  \n",
      " debt_settlement_flag_date                  |                    \n",
      " settlement_status                          |                    \n",
      " settlement_date                            |                    \n",
      " settlement_amount                          |                    \n",
      " settlement_percentage                      | 0                  \n",
      " settlement_term                            | 0                  \n",
      "\n"
     ]
    }
   ],
   "source": [
    "DF.limit(1).show(vertical=True)"
   ]
  },
  {
   "cell_type": "markdown",
   "metadata": {},
   "source": [
    "## Target"
   ]
  },
  {
   "cell_type": "markdown",
   "metadata": {},
   "source": [
    "In this task target is a DEFAULT event defined as a `loan_status` which is taking on the following levels:   \n",
    "* Charged off\n",
    "* Default\n",
    "* Does not meet the credit policy. Status: Charged Off\n",
    "* Late (31-120 days)\n",
    "\n",
    "[statuses meaning](https://help.lendingclub.com/hc/en-us/articles/216109367-What-do-the-different-Note-statuses-mean-) "
   ]
  },
  {
   "cell_type": "markdown",
   "metadata": {},
   "source": [
    "Few words about DEFAULT theory:\n",
    "* DEFAULT is a set of events/status that bank classify as an incapability to pay back a loan.   \n",
    "* To predict beforehand if client is at risk of default, bank use different tools that assess this probability.   \n",
    "* **Reactive/ application scoring**   - the main aim of reactive scoring is to forecast the credit quality of loan applications submitted by customers. It attempts to predict the applicant’s probability of default if the application were accepted.   \n",
    "* **Behavioral scoring** is used to review contracts that have already been formalized by incorporating information on customer behavior and on the contract itself. Unlike reactive scoring, it is an analysis, i.e. once the contract has been granted. \n",
    "* **Proactive scoring** tools take into account the same variables as behavioral scorings, but they have a different purpose, as they provide an overall ranking of the customer, rather than of a specific transaction. This customer perspective is supplemented by adjustments that depend on the type of product. \n",
    "\n",
    "\n",
    "\n",
    "<img src=\"https://i.imgur.com/D1Aszpq.jpg\" width=\"700\" >\n",
    "\n",
    "Source: https://shareholdersandinvestors.bbva.com/microsites/bbva2012/en/Riskmanagement/ProbabilityofdefaultPD.html    \n"
   ]
  },
  {
   "cell_type": "code",
   "execution_count": 5,
   "metadata": {},
   "outputs": [],
   "source": [
    "default_map = {\n",
    "    'Fully Paid': '0',\n",
    "    'Default' : '1',\n",
    "    'In Grace Period': '0',\n",
    "    'Does not meet the credit policy. Status:Fully Paid' : '0',\n",
    "    'Charged Off': '1',\n",
    "    'Late (31-120 days)' : '1',\n",
    "    'Current' : '0',\n",
    "    'Does not meet the credit policy. Status:Charged Off' : '1',\n",
    "    'Late (16-30 days)' : '0'\n",
    "}"
   ]
  },
  {
   "cell_type": "code",
   "execution_count": 6,
   "metadata": {},
   "outputs": [
    {
     "name": "stdout",
     "output_type": "stream",
     "text": [
      "+---------------------------------------------------+-------+-------+\n",
      "|loan_status                                        |default|cnt    |\n",
      "+---------------------------------------------------+-------+-------+\n",
      "|Fully Paid                                         |0      |1041952|\n",
      "|Current                                            |0      |919695 |\n",
      "|Charged Off                                        |1      |261655 |\n",
      "|Late (31-120 days)                                 |1      |21897  |\n",
      "|In Grace Period                                    |0      |8952   |\n",
      "|Late (16-30 days)                                  |0      |3737   |\n",
      "|Does not meet the credit policy. Status:Fully Paid |0      |1988   |\n",
      "|Does not meet the credit policy. Status:Charged Off|1      |761    |\n",
      "|Default                                            |1      |31     |\n",
      "+---------------------------------------------------+-------+-------+\n",
      "\n"
     ]
    }
   ],
   "source": [
    "print(\"Loan statuses distribution\")\n",
    "spark.sql(\n",
    "    \"SELECT loan_status,loan_status as default, count(*) as cnt from loan group by loan_status order by cnt desc\") \\\n",
    "    .replace(default_map, subset=\"default\").show(truncate=False)\n"
   ]
  },
  {
   "cell_type": "code",
   "execution_count": 7,
   "metadata": {},
   "outputs": [],
   "source": [
    "import pyspark.sql.functions as f\n",
    "\n",
    "default_in_time = DF.withColumn('default', f.col('loan_status')) \\\n",
    "    .replace(default_map, subset=\"default\") \\\n",
    "    .select(f.col('default'), f.to_date(\"issue_d\",'MMM-yyyy').alias(\"issue_d\")) \\\n",
    "    .groupBy(['issue_d']) \\\n",
    "    .agg(f.sum('default').alias('default_cnt'), (f.sum('default')/f.count('default')).alias('default_rate')\n",
    "        ,f.count('default').alias(\"cnt\")).orderBy('issue_d').toPandas()"
   ]
  },
  {
   "cell_type": "code",
   "execution_count": 8,
   "metadata": {},
   "outputs": [],
   "source": [
    "current_in_time = spark.sql(\"select distinct issue_d, count(*) as cnt from loan where loan_status = 'Current' group by issue_d order by issue_d\") \\\n",
    "    .withColumn(\"issue_d\",f.to_date(\"issue_d\",'MMM-yyyy')).toPandas()\n"
   ]
  },
  {
   "cell_type": "code",
   "execution_count": 13,
   "metadata": {},
   "outputs": [
    {
     "data": {
      "image/png": "[encoded data removed]",
      "text/plain": [
       "<Figure size 720x432 with 2 Axes>"
      ]
     },
     "metadata": {},
     "output_type": "display_data"
    }
   ],
   "source": [
    "from matplotlib.ticker import FuncFormatter\n",
    "import pyspark.sql.functions as f\n",
    "\n",
    "sns.set(style=\"whitegrid\")\n",
    "\n",
    "fig, ax1 = plt.subplots(figsize=(10,6))\n",
    "ax2 = ax1.twinx()\n",
    "\n",
    "sns.lineplot(data=default_in_time, x='issue_d', y='default_rate', color='navy', alpha=1, linewidth=2.5, ax=ax1, label='% of clients at default')\n",
    "sns.lineplot(data=default_in_time, x='issue_d', y='cnt', color='black',alpha=0.4, dashes=True, linewidth=2.5, ax=ax2, label='number of records')\n",
    "sns.lineplot(data=current_in_time, x='issue_d', y='cnt', color='#a3a3c2',alpha=0.6, dashes=True, linewidth=2.5, ax=ax2, label='number of records - status current')\n",
    "\n",
    "ax2.lines[0].set_linestyle(\"--\")\n",
    "ax2.lines[1].set_linestyle(\"--\")\n",
    "\n",
    "ax1.legend(loc = (.05,.25), frameon = False)\n",
    "ax2.legend(loc = (.05, .15), frameon = False)\n",
    "\n",
    "ax1.set(xlabel='issue date', ylabel='default rate')\n",
    "ax2.set(ylabel='number of records')\n",
    "\n",
    "plt.title('Loan data: percentage of clinets at DEFAULT and number of records in time', y=1.05, fontsize = 16)\n",
    "ax1.yaxis.set_major_formatter(FuncFormatter(lambda y, _: '{:.0%}'.format(y))) \n",
    "ax2.yaxis.set_major_formatter(FuncFormatter(lambda y, _: '{:,.0f}'.format(y))) \n"
   ]
  },
  {
   "cell_type": "markdown",
   "metadata": {},
   "source": [
    "After 2016 default ratio is sharply decreasing contrariwise to the number of loans in status `current`.    \n",
    "The younger the loan the lower risk of default. "
   ]
  },
  {
   "cell_type": "code",
   "execution_count": 18,
   "metadata": {},
   "outputs": [],
   "source": [
    "_tmp = spark.sql('select term, count(*) as cnt from loan group by term').toPandas()"
   ]
  },
  {
   "cell_type": "code",
   "execution_count": 20,
   "metadata": {},
   "outputs": [
    {
     "data": {
      "text/html": [
       "<div>\n",
       "<style scoped>\n",
       "    .dataframe tbody tr th:only-of-type {\n",
       "        vertical-align: middle;\n",
       "    }\n",
       "\n",
       "    .dataframe tbody tr th {\n",
       "        vertical-align: top;\n",
       "    }\n",
       "\n",
       "    .dataframe thead th {\n",
       "        text-align: right;\n",
       "    }\n",
       "</style>\n",
       "<table border=\"1\" class=\"dataframe\">\n",
       "  <thead>\n",
       "    <tr style=\"text-align: right;\">\n",
       "      <th></th>\n",
       "      <th>term</th>\n",
       "      <th>cnt</th>\n",
       "      <th>prc</th>\n",
       "    </tr>\n",
       "  </thead>\n",
       "  <tbody>\n",
       "    <tr>\n",
       "      <th>0</th>\n",
       "      <td>36 months</td>\n",
       "      <td>1609754</td>\n",
       "      <td>0.71207</td>\n",
       "    </tr>\n",
       "    <tr>\n",
       "      <th>1</th>\n",
       "      <td>60 months</td>\n",
       "      <td>650914</td>\n",
       "      <td>0.28793</td>\n",
       "    </tr>\n",
       "  </tbody>\n",
       "</table>\n",
       "</div>"
      ],
      "text/plain": [
       "         term      cnt      prc\n",
       "0   36 months  1609754  0.71207\n",
       "1   60 months   650914  0.28793"
      ]
     },
     "execution_count": 20,
     "metadata": {},
     "output_type": "execute_result"
    }
   ],
   "source": [
    "_tmp.assign(prc = lambda x:x['cnt']/(1609754+650914))"
   ]
  },
  {
   "cell_type": "markdown",
   "metadata": {},
   "source": [
    "Acording to the website [www.lendingclub.com](https://www.lendingclub.com/info/download-data.action) this dataset contains mix of current and past loans:\n",
    ">... files contain complete loan data for all loans issued through the time period stated, including the current loan status (Current, Late, Fully Paid, etc.) and latest payment information. The file containing loan data through the \"present\" contains complete loan data for all loans issued through the previous completed calendar quarter.\n"
   ]
  },
  {
   "cell_type": "markdown",
   "metadata": {},
   "source": [
    "I will build predictive model of default according to **Reactive scoring** definition:\n",
    ">Reactive scoring - the main aim of reactive scoring is to forecast the credit quality of loan applications submitted by customers. It attempts to predict the applicant’s probability of default if the application were accepted.\n",
    "\n",
    "The default rate accounts for actually realized defaults over a given period, while PD is the predicted probability that a pool of obligors will default over the predefined future time horizon. This time horizon is– typically 12 months.\n",
    "\n",
    "In this task target is a DEFAULT event defined as a `loan_status` which is taking on the following levels:   \n",
    "* Charged off\n",
    "* Default\n",
    "* Does not meet the credit policy. Status: Charged Off\n",
    "* Late (31-120 days)\n",
    "\n",
    "The time horizon is not defined in task. \n",
    "\n",
    "Since the dataset is a mix of past and present loans I've decided to take a horizon of 36 months - it's the prevailing loan length time. "
   ]
  },
  {
   "cell_type": "markdown",
   "metadata": {},
   "source": [
    "### select  population for modeling"
   ]
  },
  {
   "cell_type": "markdown",
   "metadata": {},
   "source": [
    "\n",
    "I choose only records with issue date less or equal to 2016-03:\n",
    "* I estimate the \"present date\" on March/April of 2019 (its the max value of field `next_pymnt_d`), \n",
    "* in description is `The file containing loan data through the \"present\" contains complete loan data for all loans issued through the previous completed calendar quarter`\n",
    "* most of loans (70%) has term is issued for 36 months,\n",
    "* 2019.03 minus 36 months is 2016.03\n",
    "\n",
    "In result 1 021 327 loans will be included (45% of whole dataset)."
   ]
  },
  {
   "cell_type": "code",
   "execution_count": 12,
   "metadata": {
    "scrolled": false
   },
   "outputs": [
    {
     "name": "stdout",
     "output_type": "stream",
     "text": [
      "Distribution of 'next_pymnt_d': (since 2018-08) \n",
      "\n",
      "+------------+------+\n",
      "|next_pymnt_d|count |\n",
      "+------------+------+\n",
      "|2018-08-01  |1     |\n",
      "|2018-09-01  |2     |\n",
      "|2018-12-01  |3     |\n",
      "|2019-02-01  |406   |\n",
      "|2019-03-01  |953821|\n",
      "|2019-04-01  |78    |\n",
      "+------------+------+\n",
      "\n"
     ]
    }
   ],
   "source": [
    "print(\"Distribution of 'next_pymnt_d': (since 2018-08) \\n\")\n",
    "\n",
    "DF.select(f.to_date(\"next_pymnt_d\",'MMM-yyyy').alias('next_pymnt_d')) \\\n",
    "          .filter(f.col(\"next_pymnt_d\") > f.to_date(f.lit('2018-06-01'))) \\\n",
    "          .groupBy(\"next_pymnt_d\").count().orderBy('next_pymnt_d') \\\n",
    "          .show(200, False)\n"
   ]
  },
  {
   "cell_type": "code",
   "execution_count": 52,
   "metadata": {},
   "outputs": [
    {
     "data": {
      "text/html": [
       "<div>\n",
       "<style scoped>\n",
       "    .dataframe tbody tr th:only-of-type {\n",
       "        vertical-align: middle;\n",
       "    }\n",
       "\n",
       "    .dataframe tbody tr th {\n",
       "        vertical-align: top;\n",
       "    }\n",
       "\n",
       "    .dataframe thead th {\n",
       "        text-align: right;\n",
       "    }\n",
       "</style>\n",
       "<table border=\"1\" class=\"dataframe\">\n",
       "  <thead>\n",
       "    <tr style=\"text-align: right;\">\n",
       "      <th></th>\n",
       "      <th>Include</th>\n",
       "      <th>count</th>\n",
       "      <th>prc</th>\n",
       "    </tr>\n",
       "  </thead>\n",
       "  <tbody>\n",
       "    <tr>\n",
       "      <th>0</th>\n",
       "      <td>Y</td>\n",
       "      <td>1021327</td>\n",
       "      <td>0.451781</td>\n",
       "    </tr>\n",
       "    <tr>\n",
       "      <th>1</th>\n",
       "      <td>N</td>\n",
       "      <td>1239341</td>\n",
       "      <td>0.548219</td>\n",
       "    </tr>\n",
       "  </tbody>\n",
       "</table>\n",
       "</div>"
      ],
      "text/plain": [
       "  Include    count       prc\n",
       "0       Y  1021327  0.451781\n",
       "1       N  1239341  0.548219"
      ]
     },
     "execution_count": 52,
     "metadata": {},
     "output_type": "execute_result"
    }
   ],
   "source": [
    "_tmp = DF.select(f.to_date(\"issue_d\",'MMM-yyyy').alias('issue_d')) \\\n",
    "          .select(f.when(f.col(\"issue_d\") > f.to_date(f.lit('2016-03-01')),\"N\").otherwise(\"Y\").alias(\"Include\")) \\\n",
    "          .groupBy(\"Include\").count().toPandas()\n",
    "_tmp.assign(prc = lambda x:x['count']/(sum(_tmp['count'].values))) "
   ]
  },
  {
   "cell_type": "code",
   "execution_count": 10,
   "metadata": {},
   "outputs": [],
   "source": [
    "import datetime\n",
    "default_in_time_in =default_in_time[(default_in_time['issue_d']<=datetime.datetime.strptime('2016-03', '%Y-%m').date())]\n",
    "default_in_time_out =default_in_time[(default_in_time['issue_d']>datetime.datetime.strptime('2016-03', '%Y-%m').date())]\n"
   ]
  },
  {
   "cell_type": "code",
   "execution_count": 53,
   "metadata": {},
   "outputs": [
    {
     "data": {
      "image/png": "[encoded data removed]",
      "text/plain": [
       "<Figure size 720x432 with 1 Axes>"
      ]
     },
     "metadata": {},
     "output_type": "display_data"
    }
   ],
   "source": [
    "from matplotlib.ticker import FuncFormatter\n",
    "\n",
    "sns.set(style=\"whitegrid\")\n",
    "\n",
    "fig, ax1 = plt.subplots(figsize=(10,6))\n",
    "\n",
    "sns.lineplot(data=default_in_time_in, x='issue_d', y='default_rate', color='navy', alpha=1, \n",
    "             linewidth=2.5, ax=ax1, label='included')\n",
    "sns.lineplot(data=default_in_time_out, x='issue_d', y='default_rate', color='red', alpha=1, \n",
    "             linewidth=2.5, ax=ax1, label='excluded')\n",
    "ax1.set(xlabel='issue date', ylabel='default rate')\n",
    "plt.title('Loan data: percentage of clients in DEFAULT', y=1.05, fontsize = 16)\n",
    "ax1.yaxis.set_major_formatter(FuncFormatter(lambda y, _: '{:.0%}'.format(y))) \n"
   ]
  },
  {
   "cell_type": "markdown",
   "metadata": {},
   "source": [
    "## Variables"
   ]
  },
  {
   "cell_type": "markdown",
   "metadata": {},
   "source": [
    "Since I've decided to build application scoring I choose only the variable that are avilible at the moment of credit application.    \n",
    "They are listed in \"browseNotes\" tab of LCDataDictionary.xlsx"
   ]
  },
  {
   "cell_type": "code",
   "execution_count": 84,
   "metadata": {},
   "outputs": [],
   "source": [
    "import re\n",
    "import unicodedata\n",
    "def unic(string): return unicodedata.normalize(\"NFKD\", string)"
   ]
  },
  {
   "cell_type": "code",
   "execution_count": 85,
   "metadata": {},
   "outputs": [],
   "source": [
    "LCDataDictionary = pd.read_excel('../01_data/LCDataDictionary.xlsx',\n",
    "                             sheet_name='browseNotes')"
   ]
  },
  {
   "cell_type": "code",
   "execution_count": 86,
   "metadata": {},
   "outputs": [],
   "source": [
    "bn_or=[unic(i) for i in LCDataDictionary.BrowseNotesFile.tolist()[:-2]]\n",
    "bn_md=[re.sub(\"[_ ]\",\"\",unic(i).lower()) for i in LCDataDictionary.BrowseNotesFile.tolist()[:-2]]\n",
    "ds=DF.columns"
   ]
  },
  {
   "cell_type": "code",
   "execution_count": 87,
   "metadata": {},
   "outputs": [],
   "source": [
    "selected_variables = ['issue_d']+[i for i in ds if re.sub(\"[_ ]\",\"\",i).lower() in bn_md]+['mths_since_recent_inq','last_credit_pull_d','verification_status_joint','mo_sin_old_il_acct','loan_status']\n"
   ]
  },
  {
   "cell_type": "code",
   "execution_count": 108,
   "metadata": {},
   "outputs": [],
   "source": [
    "with codecs.open('../01_data/variables_browseNotes_select.txt','w') as f:\n",
    "    for item in selected_variables:\n",
    "        f.write(\"%s\\n\" % item)\n",
    "    "
   ]
  },
  {
   "cell_type": "markdown",
   "metadata": {},
   "source": [
    "manually maped \n",
    "```\n",
    "creditPullD -> last_credit_pull_d\n",
    "mthsSinceMostRecentInq -> mths_since_recent_inq\n",
    "verified_status_joint -> verification_status_joint\n",
    "mths_since_oldest_il_open -> mo_sin_old_il_acct\n",
    "```\n",
    "\n",
    "Not in dataset\n",
    "\n",
    "```\n",
    "acceptD\n",
    "effective_int_rate\n",
    "expD\n",
    "ficoRangeHigh\n",
    "ficoRangeLow\n",
    "ils_exp_d\n",
    "isIncV\n",
    "listD\n",
    "msa\n",
    "mths_since_oldest_il_open\n",
    "mthsSinceRecentLoanDelinq\n",
    "reviewStatus\n",
    "reviewStatusD\n",
    "serviceFeeRate\n",
    "sec_app_fico_range_low\n",
    "sec_app_fico_range_high\n",
    "```"
   ]
  },
  {
   "cell_type": "code",
   "execution_count": 109,
   "metadata": {},
   "outputs": [],
   "source": [
    "with codecs.open('../01_data/variables_browseNotes_select.txt','r') as f:\n",
    "    variables = [i[:-1] for i in f.readlines()]\n"
   ]
  },
  {
   "cell_type": "code",
   "execution_count": 107,
   "metadata": {
    "scrolled": false
   },
   "outputs": [
    {
     "name": "stdout",
     "output_type": "stream",
     "text": [
      "-RECORD 0-------------------------------------------------\n",
      " issue_d                             | Dec-2018           \n",
      " id                                  |                    \n",
      " member_id                           |                    \n",
      " loan_amnt                           | 2500               \n",
      " funded_amnt                         | 2500               \n",
      " term                                |  36 months         \n",
      " int_rate                            | 13.56              \n",
      " installment                         | 84.92              \n",
      " grade                               | C                  \n",
      " sub_grade                           | C1                 \n",
      " emp_title                           | Chef               \n",
      " emp_length                          | 10+ years          \n",
      " home_ownership                      | RENT               \n",
      " annual_inc                          | 55000              \n",
      " url                                 |                    \n",
      " desc                                |                    \n",
      " purpose                             | debt_consolidation \n",
      " title                               | Debt consolidation \n",
      " zip_code                            | 109xx              \n",
      " addr_state                          | NY                 \n",
      " dti                                 | 18.24              \n",
      " delinq_2yrs                         | 0                  \n",
      " earliest_cr_line                    | Apr-2001           \n",
      " inq_last_6mths                      | 1                  \n",
      " mths_since_last_delinq              | 0                  \n",
      " mths_since_last_record              | 45                 \n",
      " open_acc                            | 9                  \n",
      " pub_rec                             | 1                  \n",
      " revol_bal                           | 4341               \n",
      " revol_util                          | 10.3               \n",
      " total_acc                           | 34                 \n",
      " initial_list_status                 | w                  \n",
      " collections_12_mths_ex_med          | 0                  \n",
      " mths_since_last_major_derog         | 0                  \n",
      " application_type                    | Individual         \n",
      " annual_inc_joint                    | 0                  \n",
      " dti_joint                           |                    \n",
      " acc_now_delinq                      | 0                  \n",
      " tot_coll_amt                        | 0                  \n",
      " tot_cur_bal                         | 16901              \n",
      " open_acc_6m                         | 2                  \n",
      " open_act_il                         | 2                  \n",
      " open_il_12m                         | 1                  \n",
      " open_il_24m                         | 2                  \n",
      " mths_since_rcnt_il                  | 2                  \n",
      " total_bal_il                        | 12560              \n",
      " il_util                             | 69                 \n",
      " open_rv_12m                         | 2                  \n",
      " open_rv_24m                         | 7                  \n",
      " max_bal_bc                          | 2137               \n",
      " all_util                            | 28                 \n",
      " total_rev_hi_lim                    | 42000              \n",
      " inq_fi                              | 1                  \n",
      " total_cu_tl                         | 11                 \n",
      " inq_last_12m                        | 2                  \n",
      " acc_open_past_24mths                | 9                  \n",
      " avg_cur_bal                         | 1878               \n",
      " bc_open_to_buy                      | 34360              \n",
      " bc_util                             | 5.9                \n",
      " chargeoff_within_12_mths            | 0                  \n",
      " delinq_amnt                         | 0                  \n",
      " mo_sin_old_rev_tl_op                | 212                \n",
      " mo_sin_rcnt_rev_tl_op               | 1                  \n",
      " mo_sin_rcnt_tl                      | 1                  \n",
      " mort_acc                            | 0                  \n",
      " mths_since_recent_bc                | 1                  \n",
      " mths_since_recent_revol_delinq      | 0                  \n",
      " num_accts_ever_120_pd               | 0                  \n",
      " num_actv_bc_tl                      | 2                  \n",
      " num_actv_rev_tl                     | 5                  \n",
      " num_bc_sats                         | 3                  \n",
      " num_bc_tl                           | 3                  \n",
      " num_il_tl                           | 16                 \n",
      " num_op_rev_tl                       | 7                  \n",
      " num_rev_accts                       | 18                 \n",
      " num_rev_tl_bal_gt_0                 | 5                  \n",
      " num_sats                            | 9                  \n",
      " num_tl_120dpd_2m                    | 0                  \n",
      " num_tl_30dpd                        | 0                  \n",
      " num_tl_90g_dpd_24m                  | 0                  \n",
      " num_tl_op_past_12m                  | 3                  \n",
      " pct_tl_nvr_dlq                      | 100                \n",
      " percent_bc_gt_75                    | 0                  \n",
      " pub_rec_bankruptcies                | 1                  \n",
      " tax_liens                           | 0                  \n",
      " tot_hi_cred_lim                     | 60124              \n",
      " total_bal_ex_mort                   | 16901              \n",
      " total_bc_limit                      | 36500              \n",
      " total_il_high_credit_limit          | 18124              \n",
      " revol_bal_joint                     | 0                  \n",
      " sec_app_earliest_cr_line            |                    \n",
      " sec_app_inq_last_6mths              | 0                  \n",
      " sec_app_mort_acc                    | 0                  \n",
      " sec_app_open_acc                    | 0                  \n",
      " sec_app_revol_util                  | 0                  \n",
      " sec_app_open_act_il                 | 0                  \n",
      " sec_app_num_rev_accts               | 0                  \n",
      " sec_app_chargeoff_within_12_mths    | 0                  \n",
      " sec_app_collections_12_mths_ex_med  | 0                  \n",
      " sec_app_mths_since_last_major_derog | 0                  \n",
      " disbursement_method                 | Cash               \n",
      " mths_since_recent_inq               | 2                  \n",
      " last_credit_pull_d                  | Feb-2019           \n",
      " verification_status_joint           |                    \n",
      " mo_sin_old_il_acct                  | 140                \n",
      "\n"
     ]
    }
   ],
   "source": [
    "DF.select(variables).limit(1).show(vertical=True)"
   ]
  }
 ],
 "metadata": {
  "kernelspec": {
   "display_name": "Python 3",
   "language": "python",
   "name": "python3"
  },
  "language_info": {
   "codemirror_mode": {
    "name": "ipython",
    "version": 3
   },
   "file_extension": ".py",
   "mimetype": "text/x-python",
   "name": "python",
   "nbconvert_exporter": "python",
   "pygments_lexer": "ipython3",
   "version": "3.6.6"
  },
  "toc": {
   "base_numbering": 1,
   "nav_menu": {},
   "number_sections": true,
   "sideBar": true,
   "skip_h1_title": false,
   "title_cell": "Table of Contents",
   "title_sidebar": "Contents",
   "toc_cell": false,
   "toc_position": {},
   "toc_section_display": true,
   "toc_window_display": false
  },
  "varInspector": {
   "cols": {
    "lenName": 16,
    "lenType": 16,
    "lenVar": 40
   },
   "kernels_config": {
    "python": {
     "delete_cmd_postfix": "",
     "delete_cmd_prefix": "del ",
     "library": "var_list.py",
     "varRefreshCmd": "print(var_dic_list())"
    },
    "r": {
     "delete_cmd_postfix": ") ",
     "delete_cmd_prefix": "rm(",
     "library": "var_list.r",
     "varRefreshCmd": "cat(var_dic_list()) "
    }
   },
   "types_to_exclude": [
    "module",
    "function",
    "builtin_function_or_method",
    "instance",
    "_Feature"
   ],
   "window_display": false
  }
 },
 "nbformat": 4,
 "nbformat_minor": 2
}
