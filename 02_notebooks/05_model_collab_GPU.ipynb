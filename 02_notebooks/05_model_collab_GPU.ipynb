{
 "cells": [
  {
   "cell_type": "markdown",
   "metadata": {
    "colab_type": "text",
    "id": "ROXUEO9ShitU"
   },
   "source": [
    "# Prepare environment"
   ]
  },
  {
   "cell_type": "code",
   "execution_count": 1,
   "metadata": {
    "colab": {
     "base_uri": "https://localhost:8080/",
     "height": 292
    },
    "colab_type": "code",
    "executionInfo": {
     "elapsed": 24566,
     "status": "ok",
     "timestamp": 1566508075879,
     "user": {
      "displayName": "Daniel Szponar",
      "photoUrl": "https://lh3.googleusercontent.com/a-/AAuE7mBBegp8RIhIqwBcRMz_S6rSTrlFZE5yXgznRn0JUw=s64",
      "userId": "13298831531680176967"
     },
     "user_tz": -120
    },
    "id": "qmY0bYRAddbP",
    "outputId": "8a2a62b6-9033-46b1-c01a-ef8c2221c9d0"
   },
   "outputs": [
    {
     "name": "stdout",
     "output_type": "stream",
     "text": [
      "Go to this URL in a browser: https://accounts.google.com/o/oauth2/auth?client_id=947318989803-6bn6qk8qdgf4n4g3pfee6491hc0brc4i.apps.googleusercontent.com&redirect_uri=urn%3Aietf%3Awg%3Aoauth%3A2.0%3Aoob&scope=email%20https%3A%2F%2Fwww.googleapis.com%2Fauth%2Fdocs.test%20https%3A%2F%2Fwww.googleapis.com%2Fauth%2Fdrive%20https%3A%2F%2Fwww.googleapis.com%2Fauth%2Fdrive.photos.readonly%20https%3A%2F%2Fwww.googleapis.com%2Fauth%2Fpeopleapi.readonly&response_type=code\n",
      "\n",
      "Enter your authorization code:\n",
      "··········\n",
      "Mounted at /gdrive\n",
      "total 36\n",
      "drwx------ 2 root root 4096 Oct  3  2018 'Colab Notebooks'\n",
      "drwx------ 2 root root 4096 Jun  2  2018  DataScience\n",
      "drwx------ 2 root root 4096 Jan 12  2014  Dokumenty\n",
      "drwx------ 2 root root 4096 Feb  6  2019  Notability\n",
      "drwx------ 2 root root 4096 Feb  6  2019  Notes\n",
      "drwx------ 2 root root 4096 May 12 21:02 'Sleep as Android'\n",
      "drwx------ 2 root root 4096 Apr 21 16:20 'Trekking '\n",
      "drwx------ 2 root root 4096 Jun 14 20:30 'Wedding '\n",
      "drwx------ 2 root root 4096 Sep 15  2018  WWW\n"
     ]
    }
   ],
   "source": [
    "import os\n",
    "from google.colab import drive\n",
    "drive.mount('/gdrive')\n",
    "os.symlink('/gdrive/My Drive', '/content/gdrive')\n",
    "!ls -l /content/gdrive/\n"
   ]
  },
  {
   "cell_type": "code",
   "execution_count": 1,
   "metadata": {
    "colab": {
     "base_uri": "https://localhost:8080/",
     "height": 68
    },
    "colab_type": "code",
    "executionInfo": {
     "elapsed": 4271,
     "status": "ok",
     "timestamp": 1566510364749,
     "user": {
      "displayName": "Daniel Szponar",
      "photoUrl": "https://lh3.googleusercontent.com/a-/AAuE7mBBegp8RIhIqwBcRMz_S6rSTrlFZE5yXgznRn0JUw=s64",
      "userId": "13298831531680176967"
     },
     "user_tz": -120
    },
    "id": "rYtU3BwDeJ0s",
    "outputId": "673d6b76-4810-49df-f489-57b1e3da98bd"
   },
   "outputs": [
    {
     "name": "stdout",
     "output_type": "stream",
     "text": [
      "01_data       99_docs\t\t   README.md\t     site-packages\n",
      "02_notebooks  docker-compose.yaml  requirements.txt\n",
      "98_sys_files  install.sh\t   run.sh\n"
     ]
    }
   ],
   "source": [
    "!ls gdrive/DataScience/Projects/201908_credit/"
   ]
  },
  {
   "cell_type": "code",
   "execution_count": 0,
   "metadata": {
    "colab": {},
    "colab_type": "code",
    "id": "Oc5OHgqqe0PG"
   },
   "outputs": [],
   "source": [
    "#!pip install -r gdrive/DataScience/Projects/201908_credit/requirements.txt\n",
    "#!pip install -r gdrive/DataScience/Projects/201908_credit/requirements.txt"
   ]
  },
  {
   "cell_type": "code",
   "execution_count": 2,
   "metadata": {
    "colab": {
     "base_uri": "https://localhost:8080/",
     "height": 561
    },
    "colab_type": "code",
    "executionInfo": {
     "elapsed": 15076,
     "status": "ok",
     "timestamp": 1566510376870,
     "user": {
      "displayName": "Daniel Szponar",
      "photoUrl": "https://lh3.googleusercontent.com/a-/AAuE7mBBegp8RIhIqwBcRMz_S6rSTrlFZE5yXgznRn0JUw=s64",
      "userId": "13298831531680176967"
     },
     "user_tz": -120
    },
    "id": "t8B9GgTTp1id",
    "outputId": "8dbc33c2-4c42-4128-cc4b-f8d04fe6b358"
   },
   "outputs": [
    {
     "name": "stdout",
     "output_type": "stream",
     "text": [
      "Requirement already up-to-date: scikit-learn==0.20.2 in /usr/local/lib/python3.6/dist-packages (0.20.2)\n",
      "Requirement already satisfied, skipping upgrade: scipy>=0.13.3 in /usr/local/lib/python3.6/dist-packages (from scikit-learn==0.20.2) (1.3.1)\n",
      "Requirement already satisfied, skipping upgrade: numpy>=1.8.2 in /usr/local/lib/python3.6/dist-packages (from scikit-learn==0.20.2) (1.16.4)\n",
      "Requirement already up-to-date: scikit-optimize==0.5.2 in /usr/local/lib/python3.6/dist-packages (0.5.2)\n",
      "Requirement already satisfied, skipping upgrade: numpy in /usr/local/lib/python3.6/dist-packages (from scikit-optimize==0.5.2) (1.16.4)\n",
      "Requirement already satisfied, skipping upgrade: scipy>=0.14.0 in /usr/local/lib/python3.6/dist-packages (from scikit-optimize==0.5.2) (1.3.1)\n",
      "Requirement already satisfied, skipping upgrade: scikit-learn>=0.19.1 in /usr/local/lib/python3.6/dist-packages (from scikit-optimize==0.5.2) (0.20.2)\n",
      "Requirement already satisfied: catboost in /usr/local/lib/python3.6/dist-packages (0.16.5)\n",
      "Requirement already satisfied: graphviz in /usr/local/lib/python3.6/dist-packages (from catboost) (0.10.1)\n",
      "Requirement already satisfied: pandas>=0.19.1 in /usr/local/lib/python3.6/dist-packages (from catboost) (0.24.2)\n",
      "Requirement already satisfied: plotly in /usr/local/lib/python3.6/dist-packages (from catboost) (3.6.1)\n",
      "Requirement already satisfied: six in /usr/local/lib/python3.6/dist-packages (from catboost) (1.12.0)\n",
      "Requirement already satisfied: matplotlib in /usr/local/lib/python3.6/dist-packages (from catboost) (3.0.3)\n",
      "Requirement already satisfied: numpy>=1.16.0 in /usr/local/lib/python3.6/dist-packages (from catboost) (1.16.4)\n",
      "Requirement already satisfied: python-dateutil>=2.5.0 in /usr/local/lib/python3.6/dist-packages (from pandas>=0.19.1->catboost) (2.5.3)\n",
      "Requirement already satisfied: pytz>=2011k in /usr/local/lib/python3.6/dist-packages (from pandas>=0.19.1->catboost) (2018.9)\n",
      "Requirement already satisfied: decorator>=4.0.6 in /usr/local/lib/python3.6/dist-packages (from plotly->catboost) (4.4.0)\n",
      "Requirement already satisfied: retrying>=1.3.3 in /usr/local/lib/python3.6/dist-packages (from plotly->catboost) (1.3.3)\n",
      "Requirement already satisfied: requests in /usr/local/lib/python3.6/dist-packages (from plotly->catboost) (2.21.0)\n",
      "Requirement already satisfied: nbformat>=4.2 in /usr/local/lib/python3.6/dist-packages (from plotly->catboost) (4.4.0)\n",
      "Requirement already satisfied: cycler>=0.10 in /usr/local/lib/python3.6/dist-packages (from matplotlib->catboost) (0.10.0)\n",
      "Requirement already satisfied: pyparsing!=2.0.4,!=2.1.2,!=2.1.6,>=2.0.1 in /usr/local/lib/python3.6/dist-packages (from matplotlib->catboost) (2.4.2)\n",
      "Requirement already satisfied: kiwisolver>=1.0.1 in /usr/local/lib/python3.6/dist-packages (from matplotlib->catboost) (1.1.0)\n",
      "Requirement already satisfied: chardet<3.1.0,>=3.0.2 in /usr/local/lib/python3.6/dist-packages (from requests->plotly->catboost) (3.0.4)\n",
      "Requirement already satisfied: idna<2.9,>=2.5 in /usr/local/lib/python3.6/dist-packages (from requests->plotly->catboost) (2.8)\n",
      "Requirement already satisfied: urllib3<1.25,>=1.21.1 in /usr/local/lib/python3.6/dist-packages (from requests->plotly->catboost) (1.24.3)\n",
      "Requirement already satisfied: certifi>=2017.4.17 in /usr/local/lib/python3.6/dist-packages (from requests->plotly->catboost) (2019.6.16)\n",
      "Requirement already satisfied: jsonschema!=2.5.0,>=2.4 in /usr/local/lib/python3.6/dist-packages (from nbformat>=4.2->plotly->catboost) (2.6.0)\n",
      "Requirement already satisfied: traitlets>=4.1 in /usr/local/lib/python3.6/dist-packages (from nbformat>=4.2->plotly->catboost) (4.3.2)\n",
      "Requirement already satisfied: jupyter-core in /usr/local/lib/python3.6/dist-packages (from nbformat>=4.2->plotly->catboost) (4.5.0)\n",
      "Requirement already satisfied: ipython-genutils in /usr/local/lib/python3.6/dist-packages (from nbformat>=4.2->plotly->catboost) (0.2.0)\n",
      "Requirement already satisfied: setuptools in /usr/local/lib/python3.6/dist-packages (from kiwisolver>=1.0.1->matplotlib->catboost) (41.1.0)\n"
     ]
    }
   ],
   "source": [
    "!pip install scikit-learn==0.20.2 --upgrade\n",
    "!pip install scikit-optimize==0.5.2 --upgrade\n",
    "!pip install catboost"
   ]
  },
  {
   "cell_type": "code",
   "execution_count": 0,
   "metadata": {
    "colab": {},
    "colab_type": "code",
    "id": "8esnF7zOfVJe"
   },
   "outputs": [],
   "source": [
    "import feather\n",
    "import os\n",
    "import warnings\n",
    "import numpy as np\n",
    "import pandas as pd\n",
    "import json\n",
    "import codecs\n",
    "import gc \n",
    "import sys\n",
    "from time import time\n",
    "import itertools\n",
    "\n",
    "from pathlib import Path\n",
    "import matplotlib\n",
    "import matplotlib.pyplot as plt\n",
    "import seaborn as sns\n",
    "import pprint\n",
    "\n",
    "# models\n",
    "from catboost import CatBoostClassifier\n",
    "\n",
    "\n",
    "# Hyperparameters distributions\n",
    "from scipy.stats import randint\n",
    "from scipy.stats import uniform\n",
    "\n",
    "# Model selection\n",
    "from sklearn.model_selection import StratifiedKFold\n",
    "from sklearn.model_selection import GridSearchCV, RandomizedSearchCV\n",
    "from sklearn.model_selection import cross_val_score\n",
    "\n",
    "# Metrics\n",
    "from sklearn.metrics import roc_auc_score, average_precision_score\n",
    "from sklearn.metrics import make_scorer\n",
    "\n",
    "# Skopt functions\n",
    "from skopt import BayesSearchCV\n",
    "from skopt import gp_minimize # Bayesian optimization using Gaussian Processes\n",
    "from skopt.space import Real, Categorical, Integer\n",
    "from skopt.utils import use_named_args # decorator to convert a list of parameters to named arguments\n",
    "from skopt.callbacks import DeadlineStopper # Stop the optimization before running out of a fixed budget of time.\n",
    "from skopt.callbacks import VerboseCallback # Callback to control the verbosity\n",
    "from skopt.callbacks import DeltaXStopper # Stop the optimization If the last two positions at which the objective has been evaluated are less than delta\n",
    "\n",
    "# Metrics\n",
    "from sklearn.metrics import roc_auc_score\n",
    "from sklearn.metrics import make_scorer\n",
    "\n",
    "# Skopt functions\n",
    "from skopt import BayesSearchCV\n",
    "from skopt.callbacks import DeadlineStopper, VerboseCallback, DeltaXStopper\n",
    "from skopt.space import Real, Categorical, Integer\n",
    "\n",
    "# Data prepare\n",
    "from sklearn.decomposition import TruncatedSVD\n",
    "from sklearn.decomposition import LatentDirichletAllocation\n",
    "from sklearn.pipeline import make_pipeline, make_union\n",
    "from sklearn.compose import ColumnTransformer, make_column_transformer\n",
    "from sklearn.feature_extraction.text import CountVectorizer, TfidfVectorizer\n",
    "\n",
    "\n",
    "pd.options.display.max_columns = 999\n",
    "pd.options.display.max_rows = 999\n",
    "\n",
    "warnings.filterwarnings(\"ignore\")\n",
    "seed = 666"
   ]
  },
  {
   "cell_type": "code",
   "execution_count": 0,
   "metadata": {
    "colab": {},
    "colab_type": "code",
    "id": "jOCgl6ymgNTq"
   },
   "outputs": [],
   "source": [
    "sys.path.append('gdrive/DataScience/Projects/201908_credit/02_notebooks')\n",
    "import helpers"
   ]
  },
  {
   "cell_type": "markdown",
   "metadata": {
    "colab_type": "text",
    "id": "vfDkH8BPiXb9"
   },
   "source": [
    "# Load Data"
   ]
  },
  {
   "cell_type": "code",
   "execution_count": 0,
   "metadata": {
    "colab": {},
    "colab_type": "code",
    "id": "sMKE3zU1g5FL"
   },
   "outputs": [],
   "source": [
    "data_DIR = Path('gdrive/DataScience/Projects/201908_credit/01_data')\n",
    "\n",
    "df_train = feather.read_dataframe(os.path.join(data_DIR, 'DS_loans_IN_train.feather')).reset_index(drop=True)\n",
    "df_test = feather.read_dataframe(os.path.join(data_DIR, 'DS_loans_IN_test.feather')).reset_index(drop=True)\n",
    "\n",
    "df_variables = feather.read_dataframe(os.path.join(data_DIR, 'variables_primary_selection.feather'))\n"
   ]
  },
  {
   "cell_type": "code",
   "execution_count": 0,
   "metadata": {
    "colab": {},
    "colab_type": "code",
    "id": "u09XjBhHOPLH"
   },
   "outputs": [],
   "source": [
    "#!!! RESET INDEX\n",
    "train_sample_size = 30000\n",
    "train_sample_size_tune = int(train_sample_size/3)\n",
    "test_sample_size = 5000\n",
    "test_sample_size_tune = int(test_sample_size/3)\n",
    "\n",
    "df_train = df_train.sample(train_sample_size, random_state=seed).reset_index(drop=True)\n",
    "\n",
    "df_train_tune = df_train.sample(train_sample_size_tune, random_state=seed).reset_index(drop=True)\n"
   ]
  },
  {
   "cell_type": "code",
   "execution_count": 0,
   "metadata": {
    "colab": {},
    "colab_type": "code",
    "id": "5whsN0sdlQRl"
   },
   "outputs": [],
   "source": [
    "replacement = {'emp_length':\n",
    "                  {'< 1 year':0, '9 years':9, '3 years':3, '10+ years':11, '7 years':7,\n",
    "                   '2 years':2, '4 years':4, '1 year':1, '8 years':8, '5 years':5, None:np.nan,\n",
    "                   '6 years':6}}\n",
    "df_train = df_train.replace(replacement)\n",
    "df_test = df_test.replace(replacement)"
   ]
  },
  {
   "cell_type": "code",
   "execution_count": 0,
   "metadata": {
    "colab": {},
    "colab_type": "code",
    "id": "zEfz0NKflTGV"
   },
   "outputs": [],
   "source": [
    "df_train.replace({'desc': {'': np.nan},'emp_title': {'': np.nan},'title': {'': np.nan}}, inplace=True)\n",
    "df_train.fillna({'desc': 'novalue', 'emp_title': 'novalue', 'title': 'novalue'}, inplace=True)\n",
    "\n",
    "df_test.replace({'desc': {'': np.nan},'emp_title': {'': np.nan},'title': {'': np.nan}}, inplace=True)\n",
    "df_test.fillna({'desc': 'novalue', 'emp_title': 'novalue', 'title': 'novalue'}, inplace=True)\n"
   ]
  },
  {
   "cell_type": "markdown",
   "metadata": {
    "colab_type": "text",
    "id": "6xczHLeOTs5j"
   },
   "source": [
    "REMOVE LOAN STATUS!!!"
   ]
  },
  {
   "cell_type": "code",
   "execution_count": 0,
   "metadata": {
    "colab": {},
    "colab_type": "code",
    "id": "yRO5AYdSx-rL"
   },
   "outputs": [],
   "source": [
    "df_train = df_train.drop(['loan_status','emp_title','desc','title','earliest_cr_line','issue_d','grade','int_rate'],axis=1)\n",
    "df_test = df_test.drop(['loan_status','emp_title','desc','title','earliest_cr_line','issue_d','grade','int_rate'],axis=1)\n",
    "\n"
   ]
  },
  {
   "cell_type": "code",
   "execution_count": 0,
   "metadata": {
    "colab": {},
    "colab_type": "code",
    "id": "P-U3HdaSuupD"
   },
   "outputs": [],
   "source": [
    "# convert text to category \n",
    "for col in df_train.select_dtypes(include=['object']).columns:\n",
    "    df_train[col] = df_train[col].replace([' '],['nocat']).fillna('nocat').astype('category')\n",
    "\n",
    "for col in df_test.select_dtypes(include=['object']).columns:\n",
    "    df_test[col] = df_test[col].replace([' '],['nocat']).fillna('nocat').astype('category')\n"
   ]
  },
  {
   "cell_type": "code",
   "execution_count": 0,
   "metadata": {
    "colab": {},
    "colab_type": "code",
    "id": "6SGIvxlRKPHR"
   },
   "outputs": [],
   "source": [
    "from skopt.callbacks import DeadlineStopper, VerboseCallback, DeltaXStopper\n"
   ]
  },
  {
   "cell_type": "code",
   "execution_count": 0,
   "metadata": {
    "colab": {},
    "colab_type": "code",
    "id": "6j5TZcCBkMsb"
   },
   "outputs": [],
   "source": [
    "# Reporting util for different optimizers\n",
    "def report_perf(optimizer, X, y, title, callbacks=None):\n",
    "    \"\"\"\n",
    "    A wrapper for measuring time and performances of different optmizers\n",
    "    \n",
    "    optimizer = a sklearn or a skopt optimizer\n",
    "    X = the training set \n",
    "    y = our target\n",
    "    title = a string label for the experiment\n",
    "    \"\"\"\n",
    "    start = time()\n",
    "    if callbacks:\n",
    "        optimizer.fit(X, y, callback=callbacks)\n",
    "    else:\n",
    "        optimizer.fit(X, y)\n",
    "    best_score = optimizer.best_score_\n",
    "    best_score_std = optimizer.cv_results_['std_test_score'][optimizer.best_index_]\n",
    "    best_params = optimizer.best_params_\n",
    "    print((title + \" took %.2f seconds,  candidates checked: %d, best CV score: %.3f \"\n",
    "           +u\"\\u00B1\"+\" %.3f\") % (time() - start, \n",
    "                                  len(optimizer.cv_results_['params']),\n",
    "                                  best_score,\n",
    "                                  best_score_std))    \n",
    "    print('Best parameters:')\n",
    "    pprint.pprint(best_params)\n",
    "    print()\n",
    "    return best_params"
   ]
  },
  {
   "cell_type": "code",
   "execution_count": 0,
   "metadata": {
    "colab": {},
    "colab_type": "code",
    "id": "S_F9Hbp_ng4b"
   },
   "outputs": [],
   "source": [
    "skf = StratifiedKFold(n_splits=5, shuffle=True, random_state=8)"
   ]
  },
  {
   "cell_type": "code",
   "execution_count": 0,
   "metadata": {
    "colab": {},
    "colab_type": "code",
    "id": "Iq8jU4-jkWyQ"
   },
   "outputs": [],
   "source": [
    "# Converting average precision score into a scorer suitable for model selection\n",
    "roc_auc = make_scorer(roc_auc_score, greater_is_better=True, needs_threshold=True)\n",
    "\n",
    "avg_prec = make_scorer(average_precision_score, greater_is_better=True, needs_proba=True)"
   ]
  },
  {
   "cell_type": "code",
   "execution_count": 0,
   "metadata": {
    "colab": {},
    "colab_type": "code",
    "id": "7Z2vrgWDF1bM"
   },
   "outputs": [],
   "source": [
    "category_features = df_train.select_dtypes(include='category').columns.tolist()"
   ]
  },
  {
   "cell_type": "code",
   "execution_count": 0,
   "metadata": {
    "colab": {},
    "colab_type": "code",
    "id": "AOv-7XxZEKHO"
   },
   "outputs": [],
   "source": [
    "#clf = CatBoostClassifier(loss_function='Logloss',\n",
    "#                         custom_metric = ['Logloss', 'AUC'],\n",
    "#                         #eval_metric = 'AUC',\n",
    "#                         task_type='GPU',\n",
    "#                         cat_features = category_features,\n",
    "#                         verbose = False)"
   ]
  },
  {
   "cell_type": "code",
   "execution_count": 0,
   "metadata": {
    "colab": {},
    "colab_type": "code",
    "id": "21L1CV4_Ko5k"
   },
   "outputs": [],
   "source": [
    "clf = CatBoostClassifier(loss_function='Logloss',\n",
    "                         task_type='GPU',\n",
    "                         cat_features = category_features,\n",
    "                         verbose = False)"
   ]
  },
  {
   "cell_type": "code",
   "execution_count": 0,
   "metadata": {
    "colab": {},
    "colab_type": "code",
    "id": "mkZSXqR0K4D4"
   },
   "outputs": [],
   "source": [
    "search_spaces = {'iterations': Integer(10, 300),\n",
    "                 'depth': Integer(1, 8),\n",
    "                 'learning_rate': Real(0.01, 1.0, 'log-uniform'),\n",
    "                 'random_strength': Real(1e-9, 10, 'log-uniform'),\n",
    "                 'bagging_temperature': Real(0.0, 1.0),\n",
    "                 #'border_count': Integer(60, 180),\n",
    "                 #'ctr_border_count': Integer(60, 180),\n",
    "                 'l2_leaf_reg': Integer(2, 30),\n",
    "                 'scale_pos_weight':Real(0.01, 1.0, 'uniform')}"
   ]
  },
  {
   "cell_type": "code",
   "execution_count": 0,
   "metadata": {
    "colab": {},
    "colab_type": "code",
    "id": "3W9ljHuzLArw"
   },
   "outputs": [],
   "source": [
    "opt = BayesSearchCV(clf,\n",
    "                    search_spaces,\n",
    "                    scoring=roc_auc,\n",
    "                    cv=skf,\n",
    "                    n_iter=20,\n",
    "                    n_jobs=1,  # use just 1 job with CatBoost in order to avoid segmentation fault\n",
    "                    return_train_score=False,\n",
    "                    refit=True,\n",
    "                    optimizer_kwargs={'base_estimator': 'GP'},\n",
    "                    random_state=42)"
   ]
  },
  {
   "cell_type": "code",
   "execution_count": 19,
   "metadata": {
    "colab": {
     "base_uri": "https://localhost:8080/",
     "height": 1000
    },
    "colab_type": "code",
    "executionInfo": {
     "elapsed": 1442505,
     "status": "ok",
     "timestamp": 1566512656001,
     "user": {
      "displayName": "Daniel Szponar",
      "photoUrl": "https://lh3.googleusercontent.com/a-/AAuE7mBBegp8RIhIqwBcRMz_S6rSTrlFZE5yXgznRn0JUw=s64",
      "userId": "13298831531680176967"
     },
     "user_tz": -120
    },
    "id": "kDtS0wRTLFbt",
    "outputId": "f05a219e-3a75-4296-f146-d5cc486b2ca0"
   },
   "outputs": [
    {
     "name": "stdout",
     "output_type": "stream",
     "text": [
      "Iteration No: 1 started. Searching for the next optimal point.\n",
      "Iteration No: 1 ended. Search finished for the next optimal point.\n",
      "Time taken: 103.0042\n",
      "Function value obtained: -0.6939\n",
      "Current minimum: -0.6939\n",
      "Iteration No: 2 ended. Search finished for the next optimal point.\n",
      "Time taken: 159.0729\n",
      "Function value obtained: -0.6903\n",
      "Current minimum: -0.6939\n",
      "Iteration No: 3 ended. Search finished for the next optimal point.\n",
      "Time taken: 208.0402\n",
      "Function value obtained: -0.6952\n",
      "Current minimum: -0.6952\n",
      "Iteration No: 4 ended. Search finished for the next optimal point.\n",
      "Time taken: 264.2281\n",
      "Function value obtained: -0.6990\n",
      "Current minimum: -0.6990\n",
      "Iteration No: 5 ended. Search finished for the next optimal point.\n",
      "Time taken: 321.0151\n",
      "Function value obtained: -0.6828\n",
      "Current minimum: -0.6990\n",
      "Iteration No: 6 ended. Search finished for the next optimal point.\n",
      "Time taken: 373.6319\n",
      "Function value obtained: -0.6813\n",
      "Current minimum: -0.6990\n",
      "Iteration No: 7 ended. Search finished for the next optimal point.\n",
      "Time taken: 427.9183\n",
      "Function value obtained: -0.6998\n",
      "Current minimum: -0.6998\n",
      "Iteration No: 8 ended. Search finished for the next optimal point.\n",
      "Time taken: 489.0563\n",
      "Function value obtained: -0.6998\n",
      "Current minimum: -0.6998\n",
      "Iteration No: 9 ended. Search finished for the next optimal point.\n",
      "Time taken: 584.0361\n",
      "Function value obtained: -0.6885\n",
      "Current minimum: -0.6998\n",
      "Iteration No: 10 ended. Search finished for the next optimal point.\n",
      "Time taken: 684.6574\n",
      "Function value obtained: -0.6997\n",
      "Current minimum: -0.6998\n",
      "Iteration No: 11 ended. Search finished for the next optimal point.\n",
      "Time taken: 748.6502\n",
      "Function value obtained: -0.6863\n",
      "Current minimum: -0.6998\n",
      "Iteration No: 12 ended. Search finished for the next optimal point.\n",
      "Time taken: 810.3563\n",
      "Function value obtained: -0.6979\n",
      "Current minimum: -0.6998\n",
      "Iteration No: 13 ended. Search finished for the next optimal point.\n",
      "Time taken: 856.3104\n",
      "Function value obtained: -0.6487\n",
      "Current minimum: -0.6998\n",
      "Iteration No: 14 ended. Search finished for the next optimal point.\n",
      "Time taken: 995.9110\n",
      "Function value obtained: -0.6154\n",
      "Current minimum: -0.6998\n",
      "Iteration No: 15 ended. Search finished for the next optimal point.\n",
      "Time taken: 1042.7665\n",
      "Function value obtained: -0.6505\n",
      "Current minimum: -0.6998\n",
      "Iteration No: 16 ended. Search finished for the next optimal point.\n",
      "Time taken: 1097.3144\n",
      "Function value obtained: -0.6993\n",
      "Current minimum: -0.6998\n",
      "Iteration No: 17 ended. Search finished for the next optimal point.\n",
      "Time taken: 1231.7775\n",
      "Function value obtained: -0.6824\n",
      "Current minimum: -0.6998\n",
      "Iteration No: 18 ended. Search finished for the next optimal point.\n",
      "Time taken: 1279.3232\n",
      "Function value obtained: -0.6773\n",
      "Current minimum: -0.6998\n",
      "Iteration No: 19 ended. Search finished for the next optimal point.\n",
      "Time taken: 1364.9614\n",
      "Function value obtained: -0.6715\n",
      "Current minimum: -0.6998\n",
      "Iteration No: 20 ended. Search finished for the next optimal point.\n",
      "Time taken: 1428.4966\n",
      "Function value obtained: -0.6923\n",
      "Current minimum: -0.6998\n",
      "CatBoost took 1440.77 seconds,  candidates checked: 20, best CV score: 0.700 ± 0.011\n",
      "Best parameters:\n",
      "{'bagging_temperature': 0.5434030676903125,\n",
      " 'depth': 7,\n",
      " 'iterations': 154,\n",
      " 'l2_leaf_reg': 25,\n",
      " 'learning_rate': 0.04447541043186938,\n",
      " 'random_strength': 3.245977736555784e-09,\n",
      " 'scale_pos_weight': 0.5750700246521092}\n",
      "\n"
     ]
    }
   ],
   "source": [
    "best_params = report_perf(opt, df_train.drop('default', axis=1), df_train.default.to_list(),'CatBoost', \n",
    "                          callbacks=[VerboseCallback(1), \n",
    "                                     DeadlineStopper(60*30)])"
   ]
  },
  {
   "cell_type": "code",
   "execution_count": 0,
   "metadata": {
    "colab": {},
    "colab_type": "code",
    "id": "6Id6kk6Gby5s"
   },
   "outputs": [],
   "source": [
    "from functools import partial\n",
    "from skopt.plots import plot_evaluations\n",
    "from skopt.plots import plot_objective\n"
   ]
  }
 ],
 "metadata": {
  "accelerator": "GPU",
  "colab": {
   "collapsed_sections": [],
   "name": "05_model_collab_GPU.ipynb",
   "provenance": [],
   "version": "0.3.2"
  },
  "kernelspec": {
   "display_name": "Python 3",
   "language": "python",
   "name": "python3"
  },
  "language_info": {
   "codemirror_mode": {
    "name": "ipython",
    "version": 3
   },
   "file_extension": ".py",
   "mimetype": "text/x-python",
   "name": "python",
   "nbconvert_exporter": "python",
   "pygments_lexer": "ipython3",
   "version": "3.6.6"
  },
  "toc": {
   "base_numbering": 1,
   "nav_menu": {},
   "number_sections": true,
   "sideBar": true,
   "skip_h1_title": false,
   "title_cell": "Table of Contents",
   "title_sidebar": "Contents",
   "toc_cell": false,
   "toc_position": {},
   "toc_section_display": true,
   "toc_window_display": false
  }
 },
 "nbformat": 4,
 "nbformat_minor": 1
}
